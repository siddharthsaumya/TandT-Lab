{
 "cells": [
  {
   "cell_type": "markdown",
   "id": "6163836b",
   "metadata": {},
   "source": [
    "# FILE HANDLING"
   ]
  },
  {
   "cell_type": "code",
   "execution_count": 1,
   "id": "6c4c5d38",
   "metadata": {},
   "outputs": [
    {
     "name": "stdout",
     "output_type": "stream",
     "text": [
      "Import complete\n"
     ]
    }
   ],
   "source": [
    "#Importing important libraries\n",
    "import pandas as pd\n",
    "import numpy as np\n",
    "import os\n",
    "print(\"Import complete\")"
   ]
  },
  {
   "cell_type": "code",
   "execution_count": 2,
   "id": "be3a9835",
   "metadata": {},
   "outputs": [
    {
     "name": "stdout",
     "output_type": "stream",
     "text": [
      "Namaste india\n",
      "Namaste japan\n",
      "Namaste russia\n",
      "Namaste nepal\n",
      "\n"
     ]
    }
   ],
   "source": [
    "f = open(\"demofile.txt\") #By default taking mode as read mode\n",
    "print(f.read())"
   ]
  },
  {
   "cell_type": "code",
   "execution_count": 3,
   "id": "20a4ef40",
   "metadata": {},
   "outputs": [],
   "source": [
    "f.close() #For closing the opened file"
   ]
  },
  {
   "cell_type": "code",
   "execution_count": 4,
   "id": "24f1cf01",
   "metadata": {},
   "outputs": [
    {
     "name": "stdout",
     "output_type": "stream",
     "text": [
      "Namaste india\n",
      "Namaste japan\n",
      "Namaste russia\n",
      "Namaste nepal\n",
      "\n"
     ]
    }
   ],
   "source": [
    "f = open(\"demofile.txt\", \"r\") #Implicitely mentioning the read mode\n",
    "print(f.read())"
   ]
  },
  {
   "cell_type": "code",
   "execution_count": 5,
   "id": "41ef2134",
   "metadata": {},
   "outputs": [
    {
     "name": "stdout",
     "output_type": "stream",
     "text": [
      "Nama\n"
     ]
    }
   ],
   "source": [
    "f = open(\"demofile.txt\", \"r\")\n",
    "print(f.read(4)) #printing till 4 characters"
   ]
  },
  {
   "cell_type": "code",
   "execution_count": 6,
   "id": "ea75a087",
   "metadata": {},
   "outputs": [
    {
     "name": "stdout",
     "output_type": "stream",
     "text": [
      "Namaste india\n",
      "\n",
      "Namaste japan\n",
      "\n"
     ]
    }
   ],
   "source": [
    "f = open(\"demofile.txt\")\n",
    "print(f.readline()) #Reading line by line\n",
    "print(f.readline())"
   ]
  },
  {
   "cell_type": "code",
   "execution_count": 7,
   "id": "b4f48704",
   "metadata": {},
   "outputs": [
    {
     "name": "stdout",
     "output_type": "stream",
     "text": [
      "Namaste india\n",
      "\n",
      "Namaste japan\n",
      "\n",
      "Namaste russia\n",
      "\n",
      "Namaste nepal\n",
      "\n"
     ]
    }
   ],
   "source": [
    "f = open(\"demofile.txt\")\n",
    "for x in f: #Accessing the file using for loop\n",
    "    print(x)"
   ]
  },
  {
   "cell_type": "code",
   "execution_count": 10,
   "id": "4651685c",
   "metadata": {},
   "outputs": [
    {
     "data": {
      "text/plain": [
       "27"
      ]
     },
     "execution_count": 10,
     "metadata": {},
     "output_type": "execute_result"
    }
   ],
   "source": [
    "f = open(\"demofile.txt\", \"a\") #Opening file in append mode\n",
    "f.write(\"\\nWelcome to kiit university\")\n"
   ]
  },
  {
   "cell_type": "code",
   "execution_count": 14,
   "id": "f2bd1507",
   "metadata": {},
   "outputs": [
    {
     "name": "stdout",
     "output_type": "stream",
     "text": [
      "Oops!! everything deleted\n"
     ]
    }
   ],
   "source": [
    "f = open(\"abc.txt\", \"w\")\n",
    "f.write(\"Oops!! everything deleted\")\n",
    "f = open(\"abc.txt\", \"r\")\n",
    "print(f.read())\n",
    "f.close()"
   ]
  },
  {
   "cell_type": "code",
   "execution_count": 15,
   "id": "fbcf8aab",
   "metadata": {},
   "outputs": [],
   "source": [
    "f = open(\"newfile.txt\", \"x\") #Using x mode we can create new file"
   ]
  },
  {
   "cell_type": "code",
   "execution_count": 18,
   "id": "c3b0630a",
   "metadata": {},
   "outputs": [
    {
     "data": {
      "text/plain": [
       "16"
      ]
     },
     "execution_count": 18,
     "metadata": {},
     "output_type": "execute_result"
    }
   ],
   "source": [
    "f = open(\"newfile.txt\", \"a\")\n",
    "f.write(\"New file created\")"
   ]
  },
  {
   "cell_type": "code",
   "execution_count": 19,
   "id": "cdb758b1",
   "metadata": {},
   "outputs": [
    {
     "name": "stdout",
     "output_type": "stream",
     "text": [
      "New file created and text insertedNew file created\n"
     ]
    }
   ],
   "source": [
    "f = open(\"newfile.txt\")\n",
    "print(f.read())"
   ]
  },
  {
   "cell_type": "code",
   "execution_count": 20,
   "id": "2db9209b",
   "metadata": {},
   "outputs": [],
   "source": [
    "f.close()"
   ]
  },
  {
   "cell_type": "code",
   "execution_count": 32,
   "id": "9d976aab",
   "metadata": {},
   "outputs": [],
   "source": [
    "os.remove(\"newfile.txt\") #Remove a file, if we want to delete a directory: os.rmdir(\"directoryname\")"
   ]
  },
  {
   "cell_type": "markdown",
   "id": "68534935",
   "metadata": {},
   "source": [
    "### wap that reads a file line by line, each line read from the file is coppied to another file with line number specified at begining of the line"
   ]
  },
  {
   "cell_type": "code",
   "execution_count": 31,
   "id": "b72e421f",
   "metadata": {},
   "outputs": [
    {
     "name": "stdout",
     "output_type": "stream",
     "text": [
      "1Namaste india\n",
      "2Namaste japan\n",
      "3Namaste russia\n",
      "4Namaste nepal\n",
      "\n"
     ]
    }
   ],
   "source": [
    "f = open(\"demofile.txt\", \"r\")\n",
    "z = open(\"newfile2.txt\", \"a\")\n",
    "x = 1\n",
    "for i in f:\n",
    "    z.write(str(x)+i)\n",
    "    x+=1\n",
    "f = open(\"newfile2.txt\", \"r\")\n",
    "print(f.read())"
   ]
  },
  {
   "cell_type": "markdown",
   "id": "f6541964",
   "metadata": {},
   "source": [
    "### count and display words having charecters more than 5"
   ]
  },
  {
   "cell_type": "code",
   "execution_count": 33,
   "id": "280d399f",
   "metadata": {},
   "outputs": [
    {
     "name": "stdout",
     "output_type": "stream",
     "text": [
      "siddharth.\n",
      "student\n",
      "university.\n"
     ]
    }
   ],
   "source": [
    "w = open(\"start.txt\", \"w\")\n",
    "w.write(\"Hello my name is siddharth. I am a student of kiit university.\")\n",
    "w = open(\"start.txt\", \"r\")\n",
    "txt = w.read()\n",
    "lst = txt.split(\" \")\n",
    "for i in lst:\n",
    "    if len(i) > 5:\n",
    "        print(i)"
   ]
  },
  {
   "cell_type": "markdown",
   "id": "31027a03",
   "metadata": {},
   "source": [
    "# REGEX"
   ]
  },
  {
   "cell_type": "code",
   "execution_count": 45,
   "id": "d9158db4",
   "metadata": {},
   "outputs": [
    {
     "name": "stdout",
     "output_type": "stream",
     "text": [
      "['ai', 'ai']\n"
     ]
    }
   ],
   "source": [
    "import re\n",
    "\n",
    "txt = \"The rain in Spain\"\n",
    "x = re.findall(\"ai\", txt)\n",
    "print(x)"
   ]
  },
  {
   "cell_type": "code",
   "execution_count": 46,
   "id": "c86dee2f",
   "metadata": {},
   "outputs": [
    {
     "name": "stdout",
     "output_type": "stream",
     "text": [
      "[]\n"
     ]
    }
   ],
   "source": [
    "import re\n",
    "\n",
    "txt = \"The rain in Spain\"\n",
    "x = re.findall(\"Portugal\", txt)\n",
    "print(x)"
   ]
  },
  {
   "cell_type": "code",
   "execution_count": 51,
   "id": "24c319d0",
   "metadata": {},
   "outputs": [
    {
     "name": "stdout",
     "output_type": "stream",
     "text": [
      "First space character is located at index: 3\n"
     ]
    }
   ],
   "source": [
    "import re\n",
    "\n",
    "txt = \"The rain in Spain\"\n",
    "x = re.search(\"\\s\", txt)\n",
    "\n",
    "print(\"First space character is located at index:\", x.start())"
   ]
  },
  {
   "cell_type": "code",
   "execution_count": 52,
   "id": "13a3c958",
   "metadata": {},
   "outputs": [
    {
     "name": "stdout",
     "output_type": "stream",
     "text": [
      "['The', 'rain', 'in', 'Spain']\n"
     ]
    }
   ],
   "source": [
    "import re\n",
    "\n",
    "txt = \"The rain in Spain\"\n",
    "x = re.split(\"\\s\", txt)\n",
    "print(x)"
   ]
  },
  {
   "cell_type": "code",
   "execution_count": 54,
   "id": "b4fc0da5",
   "metadata": {},
   "outputs": [
    {
     "name": "stdout",
     "output_type": "stream",
     "text": [
      "['The', 'rain in Spain']\n"
     ]
    }
   ],
   "source": [
    "import re\n",
    "\n",
    "txt = \"The rain in Spain\"\n",
    "x = re.split(\"\\s\", txt, 1)\n",
    "print(x)"
   ]
  },
  {
   "cell_type": "code",
   "execution_count": 1,
   "id": "90376035",
   "metadata": {},
   "outputs": [
    {
     "name": "stdout",
     "output_type": "stream",
     "text": [
      "Match found!!\n"
     ]
    }
   ],
   "source": [
    "import re\n",
    "str1 = \"Welcome to kiit\"\n",
    "x = re.search(\"^Wel.*it\", str1)\n",
    "if x:\n",
    "    print(\"Match found!!\")\n",
    "else:\n",
    "    print(\"No match found!!\")"
   ]
  },
  {
   "cell_type": "code",
   "execution_count": 2,
   "id": "0dbf27f4",
   "metadata": {},
   "outputs": [
    {
     "name": "stdout",
     "output_type": "stream",
     "text": [
      "['Welcome to kiit']\n",
      "Match found!!\n"
     ]
    }
   ],
   "source": [
    "str1 = \"Welcome to kiit\"\n",
    "x = re.findall(\"^Wel.*it\", str1)\n",
    "print(x)\n",
    "if x:\n",
    "    print(\"Match found!!\")\n",
    "else:\n",
    "    print(\"No match found!!\")"
   ]
  },
  {
   "cell_type": "code",
   "execution_count": 3,
   "id": "9541766e",
   "metadata": {},
   "outputs": [
    {
     "name": "stdout",
     "output_type": "stream",
     "text": [
      "['Welcome']\n"
     ]
    }
   ],
   "source": [
    "x = re.findall(\"\\AWelcome\", str1)\n",
    "print(x)"
   ]
  },
  {
   "cell_type": "code",
   "execution_count": 4,
   "id": "2c958eb1",
   "metadata": {},
   "outputs": [
    {
     "name": "stdout",
     "output_type": "stream",
     "text": [
      "['el']\n"
     ]
    }
   ],
   "source": [
    "x = re.findall(\"el\", str1)\n",
    "print(x)"
   ]
  },
  {
   "cell_type": "code",
   "execution_count": null,
   "id": "d29cd427",
   "metadata": {},
   "outputs": [],
   "source": []
  }
 ],
 "metadata": {
  "kernelspec": {
   "display_name": "Python 3 (ipykernel)",
   "language": "python",
   "name": "python3"
  },
  "language_info": {
   "codemirror_mode": {
    "name": "ipython",
    "version": 3
   },
   "file_extension": ".py",
   "mimetype": "text/x-python",
   "name": "python",
   "nbconvert_exporter": "python",
   "pygments_lexer": "ipython3",
   "version": "3.9.7"
  }
 },
 "nbformat": 4,
 "nbformat_minor": 5
}
