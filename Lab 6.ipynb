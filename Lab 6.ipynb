{
 "cells": [
  {
   "cell_type": "code",
   "execution_count": 1,
   "id": "eff47cdf",
   "metadata": {},
   "outputs": [],
   "source": [
    "import pandas as pd"
   ]
  },
  {
   "cell_type": "code",
   "execution_count": 3,
   "id": "752071f9",
   "metadata": {},
   "outputs": [
    {
     "name": "stdout",
     "output_type": "stream",
     "text": [
      "1.3.4\n"
     ]
    }
   ],
   "source": [
    "print(pd.__version__)"
   ]
  },
  {
   "cell_type": "code",
   "execution_count": 2,
   "id": "29570991",
   "metadata": {},
   "outputs": [
    {
     "name": "stdout",
     "output_type": "stream",
     "text": [
      "    cars  passings\n",
      "0    BMW         3\n",
      "1  Volvo         7\n",
      "2   Ford         2\n"
     ]
    }
   ],
   "source": [
    "mydataset = {\n",
    "    'cars':['BMW','Volvo','Ford'],\n",
    "    'passings':[3,7,2]\n",
    "}\n",
    "\n",
    "myvar = pd.DataFrame(mydataset)\n",
    "print(myvar)"
   ]
  },
  {
   "cell_type": "code",
   "execution_count": 5,
   "id": "10ca4efc",
   "metadata": {},
   "outputs": [
    {
     "name": "stdout",
     "output_type": "stream",
     "text": [
      "0    1\n",
      "1    2\n",
      "2    3\n",
      "3    4\n",
      "4    5\n",
      "dtype: int64\n"
     ]
    }
   ],
   "source": [
    "a = [1,2,3,4,5]\n",
    "\n",
    "myvar = pd.Series(a)\n",
    "\n",
    "print(myvar)"
   ]
  },
  {
   "cell_type": "code",
   "execution_count": 9,
   "id": "75ebf374",
   "metadata": {},
   "outputs": [
    {
     "name": "stdout",
     "output_type": "stream",
     "text": [
      "x    1\n",
      "y    2\n",
      "z    3\n",
      "dtype: int64\n"
     ]
    }
   ],
   "source": [
    "a = [1,2,3]\n",
    "\n",
    "myvar = pd.Series(a, index = [\"x\",\"y\",\"z\"])\n",
    "\n",
    "print(myvar)"
   ]
  },
  {
   "cell_type": "code",
   "execution_count": 6,
   "id": "81082e5f",
   "metadata": {},
   "outputs": [
    {
     "name": "stdout",
     "output_type": "stream",
     "text": [
      "cars        [BMW, Volvo, Ford]\n",
      "passings             [3, 7, 2]\n",
      "dtype: object\n"
     ]
    }
   ],
   "source": [
    "mydataset = {\n",
    "    'cars':['BMW','Volvo','Ford'],\n",
    "    'passings':[3,7,2]\n",
    "}\n",
    "\n",
    "myvar = pd.Series(mydataset)\n",
    "\n",
    "print(myvar)"
   ]
  },
  {
   "cell_type": "code",
   "execution_count": 13,
   "id": "974ef800",
   "metadata": {},
   "outputs": [
    {
     "name": "stdout",
     "output_type": "stream",
     "text": [
      "d1    0\n",
      "d2    1\n",
      "d3    2\n",
      "dtype: int64\n"
     ]
    }
   ],
   "source": [
    "cal = {\"d1\":0,\"d2\":1,\"d3\":2}\n",
    "myvar = pd.Series(cal)\n",
    "print(myvar)"
   ]
  },
  {
   "cell_type": "code",
   "execution_count": 19,
   "id": "042e0b28",
   "metadata": {},
   "outputs": [
    {
     "name": "stdout",
     "output_type": "stream",
     "text": [
      "cars        BMW\n",
      "passings      3\n",
      "Name: 0, dtype: object cars        Volvo\n",
      "passings        7\n",
      "Name: 1, dtype: object\n"
     ]
    }
   ],
   "source": [
    "mydataset = {\n",
    "    'cars':['BMW','Volvo','Ford'],\n",
    "    'passings':[3,7,2]\n",
    "}\n",
    "\n",
    "df = pd.DataFrame(mydataset)\n",
    "print(df.loc[0],df.loc[1])"
   ]
  },
  {
   "cell_type": "code",
   "execution_count": 22,
   "id": "53960350",
   "metadata": {},
   "outputs": [
    {
     "data": {
      "text/html": [
       "<div>\n",
       "<style scoped>\n",
       "    .dataframe tbody tr th:only-of-type {\n",
       "        vertical-align: middle;\n",
       "    }\n",
       "\n",
       "    .dataframe tbody tr th {\n",
       "        vertical-align: top;\n",
       "    }\n",
       "\n",
       "    .dataframe thead th {\n",
       "        text-align: right;\n",
       "    }\n",
       "</style>\n",
       "<table border=\"1\" class=\"dataframe\">\n",
       "  <thead>\n",
       "    <tr style=\"text-align: right;\">\n",
       "      <th></th>\n",
       "      <th>Calories</th>\n",
       "      <th>Duration</th>\n",
       "    </tr>\n",
       "  </thead>\n",
       "  <tbody>\n",
       "    <tr>\n",
       "      <th>Day 1</th>\n",
       "      <td>420</td>\n",
       "      <td>12</td>\n",
       "    </tr>\n",
       "    <tr>\n",
       "      <th>Day 2</th>\n",
       "      <td>530</td>\n",
       "      <td>43</td>\n",
       "    </tr>\n",
       "    <tr>\n",
       "      <th>Day 3</th>\n",
       "      <td>234</td>\n",
       "      <td>55</td>\n",
       "    </tr>\n",
       "  </tbody>\n",
       "</table>\n",
       "</div>"
      ],
      "text/plain": [
       "       Calories  Duration\n",
       "Day 1       420        12\n",
       "Day 2       530        43\n",
       "Day 3       234        55"
      ]
     },
     "execution_count": 22,
     "metadata": {},
     "output_type": "execute_result"
    }
   ],
   "source": [
    "data = {\n",
    "    \"Calories\":[420,530,234],\n",
    "    \"Duration\":[12,43,55]\n",
    "}\n",
    "df = pd.DataFrame(data, index=[\"Day 1\",\"Day 2\",\"Day 3\"])\n",
    "df"
   ]
  },
  {
   "cell_type": "code",
   "execution_count": 32,
   "id": "9e21a5fa",
   "metadata": {},
   "outputs": [],
   "source": [
    "s_df = pd.read_csv(\"Salaries.csv\")\n",
    "t_df = pd.read_csv(\"training_titanic.csv\")"
   ]
  },
  {
   "cell_type": "code",
   "execution_count": 27,
   "id": "375f540c",
   "metadata": {},
   "outputs": [
    {
     "data": {
      "text/html": [
       "<div>\n",
       "<style scoped>\n",
       "    .dataframe tbody tr th:only-of-type {\n",
       "        vertical-align: middle;\n",
       "    }\n",
       "\n",
       "    .dataframe tbody tr th {\n",
       "        vertical-align: top;\n",
       "    }\n",
       "\n",
       "    .dataframe thead th {\n",
       "        text-align: right;\n",
       "    }\n",
       "</style>\n",
       "<table border=\"1\" class=\"dataframe\">\n",
       "  <thead>\n",
       "    <tr style=\"text-align: right;\">\n",
       "      <th></th>\n",
       "      <th>rank</th>\n",
       "      <th>discipline</th>\n",
       "      <th>phd</th>\n",
       "      <th>service</th>\n",
       "      <th>sex</th>\n",
       "      <th>salary</th>\n",
       "    </tr>\n",
       "  </thead>\n",
       "  <tbody>\n",
       "    <tr>\n",
       "      <th>0</th>\n",
       "      <td>Prof</td>\n",
       "      <td>B</td>\n",
       "      <td>56.0</td>\n",
       "      <td>49</td>\n",
       "      <td>Male</td>\n",
       "      <td>186960.0</td>\n",
       "    </tr>\n",
       "    <tr>\n",
       "      <th>1</th>\n",
       "      <td>Prof</td>\n",
       "      <td>A</td>\n",
       "      <td>12.0</td>\n",
       "      <td>6</td>\n",
       "      <td>Male</td>\n",
       "      <td>93000.0</td>\n",
       "    </tr>\n",
       "    <tr>\n",
       "      <th>2</th>\n",
       "      <td>Prof</td>\n",
       "      <td>A</td>\n",
       "      <td>23.0</td>\n",
       "      <td>20</td>\n",
       "      <td>Male</td>\n",
       "      <td>110515.0</td>\n",
       "    </tr>\n",
       "    <tr>\n",
       "      <th>3</th>\n",
       "      <td>Prof</td>\n",
       "      <td>A</td>\n",
       "      <td>40.0</td>\n",
       "      <td>31</td>\n",
       "      <td>Male</td>\n",
       "      <td>131205.0</td>\n",
       "    </tr>\n",
       "    <tr>\n",
       "      <th>4</th>\n",
       "      <td>Prof</td>\n",
       "      <td>B</td>\n",
       "      <td>20.0</td>\n",
       "      <td>18</td>\n",
       "      <td>Male</td>\n",
       "      <td>104800.0</td>\n",
       "    </tr>\n",
       "  </tbody>\n",
       "</table>\n",
       "</div>"
      ],
      "text/plain": [
       "   rank discipline   phd  service   sex    salary\n",
       "0  Prof          B  56.0       49  Male  186960.0\n",
       "1  Prof          A  12.0        6  Male   93000.0\n",
       "2  Prof          A  23.0       20  Male  110515.0\n",
       "3  Prof          A  40.0       31  Male  131205.0\n",
       "4  Prof          B  20.0       18  Male  104800.0"
      ]
     },
     "execution_count": 27,
     "metadata": {},
     "output_type": "execute_result"
    }
   ],
   "source": [
    "s_df.head(5)"
   ]
  },
  {
   "cell_type": "code",
   "execution_count": 28,
   "id": "6e72f776",
   "metadata": {},
   "outputs": [
    {
     "data": {
      "text/html": [
       "<div>\n",
       "<style scoped>\n",
       "    .dataframe tbody tr th:only-of-type {\n",
       "        vertical-align: middle;\n",
       "    }\n",
       "\n",
       "    .dataframe tbody tr th {\n",
       "        vertical-align: top;\n",
       "    }\n",
       "\n",
       "    .dataframe thead th {\n",
       "        text-align: right;\n",
       "    }\n",
       "</style>\n",
       "<table border=\"1\" class=\"dataframe\">\n",
       "  <thead>\n",
       "    <tr style=\"text-align: right;\">\n",
       "      <th></th>\n",
       "      <th>rank</th>\n",
       "      <th>discipline</th>\n",
       "      <th>phd</th>\n",
       "      <th>service</th>\n",
       "      <th>sex</th>\n",
       "      <th>salary</th>\n",
       "    </tr>\n",
       "  </thead>\n",
       "  <tbody>\n",
       "    <tr>\n",
       "      <th>73</th>\n",
       "      <td>Prof</td>\n",
       "      <td>B</td>\n",
       "      <td>18.0</td>\n",
       "      <td>10</td>\n",
       "      <td>Female</td>\n",
       "      <td>105450.0</td>\n",
       "    </tr>\n",
       "    <tr>\n",
       "      <th>74</th>\n",
       "      <td>AssocProf</td>\n",
       "      <td>B</td>\n",
       "      <td>19.0</td>\n",
       "      <td>6</td>\n",
       "      <td>Female</td>\n",
       "      <td>104542.0</td>\n",
       "    </tr>\n",
       "    <tr>\n",
       "      <th>75</th>\n",
       "      <td>Prof</td>\n",
       "      <td>B</td>\n",
       "      <td>17.0</td>\n",
       "      <td>17</td>\n",
       "      <td>Female</td>\n",
       "      <td>124312.0</td>\n",
       "    </tr>\n",
       "    <tr>\n",
       "      <th>76</th>\n",
       "      <td>Prof</td>\n",
       "      <td>A</td>\n",
       "      <td>28.0</td>\n",
       "      <td>14</td>\n",
       "      <td>Female</td>\n",
       "      <td>109954.0</td>\n",
       "    </tr>\n",
       "    <tr>\n",
       "      <th>77</th>\n",
       "      <td>Prof</td>\n",
       "      <td>A</td>\n",
       "      <td>23.0</td>\n",
       "      <td>15</td>\n",
       "      <td>Female</td>\n",
       "      <td>109646.0</td>\n",
       "    </tr>\n",
       "  </tbody>\n",
       "</table>\n",
       "</div>"
      ],
      "text/plain": [
       "         rank discipline   phd  service     sex    salary\n",
       "73       Prof          B  18.0       10  Female  105450.0\n",
       "74  AssocProf          B  19.0        6  Female  104542.0\n",
       "75       Prof          B  17.0       17  Female  124312.0\n",
       "76       Prof          A  28.0       14  Female  109954.0\n",
       "77       Prof          A  23.0       15  Female  109646.0"
      ]
     },
     "execution_count": 28,
     "metadata": {},
     "output_type": "execute_result"
    }
   ],
   "source": [
    "s_df.tail(5)"
   ]
  },
  {
   "cell_type": "code",
   "execution_count": 29,
   "id": "963f27b2",
   "metadata": {},
   "outputs": [
    {
     "data": {
      "text/html": [
       "<div>\n",
       "<style scoped>\n",
       "    .dataframe tbody tr th:only-of-type {\n",
       "        vertical-align: middle;\n",
       "    }\n",
       "\n",
       "    .dataframe tbody tr th {\n",
       "        vertical-align: top;\n",
       "    }\n",
       "\n",
       "    .dataframe thead th {\n",
       "        text-align: right;\n",
       "    }\n",
       "</style>\n",
       "<table border=\"1\" class=\"dataframe\">\n",
       "  <thead>\n",
       "    <tr style=\"text-align: right;\">\n",
       "      <th></th>\n",
       "      <th>rank</th>\n",
       "      <th>discipline</th>\n",
       "      <th>phd</th>\n",
       "      <th>service</th>\n",
       "      <th>sex</th>\n",
       "      <th>salary</th>\n",
       "    </tr>\n",
       "  </thead>\n",
       "  <tbody>\n",
       "    <tr>\n",
       "      <th>0</th>\n",
       "      <td>Prof</td>\n",
       "      <td>B</td>\n",
       "      <td>56.0</td>\n",
       "      <td>49</td>\n",
       "      <td>Male</td>\n",
       "      <td>186960.0</td>\n",
       "    </tr>\n",
       "    <tr>\n",
       "      <th>1</th>\n",
       "      <td>Prof</td>\n",
       "      <td>A</td>\n",
       "      <td>12.0</td>\n",
       "      <td>6</td>\n",
       "      <td>Male</td>\n",
       "      <td>93000.0</td>\n",
       "    </tr>\n",
       "    <tr>\n",
       "      <th>2</th>\n",
       "      <td>Prof</td>\n",
       "      <td>A</td>\n",
       "      <td>23.0</td>\n",
       "      <td>20</td>\n",
       "      <td>Male</td>\n",
       "      <td>110515.0</td>\n",
       "    </tr>\n",
       "    <tr>\n",
       "      <th>3</th>\n",
       "      <td>Prof</td>\n",
       "      <td>A</td>\n",
       "      <td>40.0</td>\n",
       "      <td>31</td>\n",
       "      <td>Male</td>\n",
       "      <td>131205.0</td>\n",
       "    </tr>\n",
       "    <tr>\n",
       "      <th>4</th>\n",
       "      <td>Prof</td>\n",
       "      <td>B</td>\n",
       "      <td>20.0</td>\n",
       "      <td>18</td>\n",
       "      <td>Male</td>\n",
       "      <td>104800.0</td>\n",
       "    </tr>\n",
       "    <tr>\n",
       "      <th>...</th>\n",
       "      <td>...</td>\n",
       "      <td>...</td>\n",
       "      <td>...</td>\n",
       "      <td>...</td>\n",
       "      <td>...</td>\n",
       "      <td>...</td>\n",
       "    </tr>\n",
       "    <tr>\n",
       "      <th>73</th>\n",
       "      <td>Prof</td>\n",
       "      <td>B</td>\n",
       "      <td>18.0</td>\n",
       "      <td>10</td>\n",
       "      <td>Female</td>\n",
       "      <td>105450.0</td>\n",
       "    </tr>\n",
       "    <tr>\n",
       "      <th>74</th>\n",
       "      <td>AssocProf</td>\n",
       "      <td>B</td>\n",
       "      <td>19.0</td>\n",
       "      <td>6</td>\n",
       "      <td>Female</td>\n",
       "      <td>104542.0</td>\n",
       "    </tr>\n",
       "    <tr>\n",
       "      <th>75</th>\n",
       "      <td>Prof</td>\n",
       "      <td>B</td>\n",
       "      <td>17.0</td>\n",
       "      <td>17</td>\n",
       "      <td>Female</td>\n",
       "      <td>124312.0</td>\n",
       "    </tr>\n",
       "    <tr>\n",
       "      <th>76</th>\n",
       "      <td>Prof</td>\n",
       "      <td>A</td>\n",
       "      <td>28.0</td>\n",
       "      <td>14</td>\n",
       "      <td>Female</td>\n",
       "      <td>109954.0</td>\n",
       "    </tr>\n",
       "    <tr>\n",
       "      <th>77</th>\n",
       "      <td>Prof</td>\n",
       "      <td>A</td>\n",
       "      <td>23.0</td>\n",
       "      <td>15</td>\n",
       "      <td>Female</td>\n",
       "      <td>109646.0</td>\n",
       "    </tr>\n",
       "  </tbody>\n",
       "</table>\n",
       "<p>78 rows × 6 columns</p>\n",
       "</div>"
      ],
      "text/plain": [
       "         rank discipline   phd  service     sex    salary\n",
       "0        Prof          B  56.0       49    Male  186960.0\n",
       "1        Prof          A  12.0        6    Male   93000.0\n",
       "2        Prof          A  23.0       20    Male  110515.0\n",
       "3        Prof          A  40.0       31    Male  131205.0\n",
       "4        Prof          B  20.0       18    Male  104800.0\n",
       "..        ...        ...   ...      ...     ...       ...\n",
       "73       Prof          B  18.0       10  Female  105450.0\n",
       "74  AssocProf          B  19.0        6  Female  104542.0\n",
       "75       Prof          B  17.0       17  Female  124312.0\n",
       "76       Prof          A  28.0       14  Female  109954.0\n",
       "77       Prof          A  23.0       15  Female  109646.0\n",
       "\n",
       "[78 rows x 6 columns]"
      ]
     },
     "execution_count": 29,
     "metadata": {},
     "output_type": "execute_result"
    }
   ],
   "source": [
    "s_df"
   ]
  },
  {
   "cell_type": "code",
   "execution_count": 33,
   "id": "f2dd99d1",
   "metadata": {},
   "outputs": [
    {
     "name": "stdout",
     "output_type": "stream",
     "text": [
      "         rank discipline   phd  service     sex    salary\n",
      "0        Prof          B  56.0       49    Male  186960.0\n",
      "1        Prof          A  12.0        6    Male   93000.0\n",
      "2        Prof          A  23.0       20    Male  110515.0\n",
      "3        Prof          A  40.0       31    Male  131205.0\n",
      "4        Prof          B  20.0       18    Male  104800.0\n",
      "5        Prof          A  20.0       20    Male  122400.0\n",
      "6   AssocProf          A  20.0       17    Male   81285.0\n",
      "7        Prof          A  18.0       18    Male       NaN\n",
      "8        Prof          A  29.0       19    Male   94350.0\n",
      "9        Prof          A  51.0       51    Male   57800.0\n",
      "10       Prof          B  39.0       33    Male  128250.0\n",
      "11       Prof          B  23.0       23    Male  134778.0\n",
      "12   AsstProf          B   1.0        0    Male   88000.0\n",
      "13       Prof          B   NaN       33    Male  162200.0\n",
      "14       Prof          B  25.0       19    Male  153750.0\n",
      "15       Prof          B  17.0        3    Male  150480.0\n",
      "16   AsstProf          B   8.0        3    Male   75044.0\n",
      "17   AsstProf          B   4.0        0    Male   92000.0\n",
      "18       Prof          A  19.0        7    Male  107300.0\n",
      "19       Prof          A  29.0       27    Male  150500.0\n",
      "20   AsstProf          B   4.0        4    Male   92000.0\n",
      "21       Prof          A  33.0       30    Male  103106.0\n",
      "22   AsstProf          A   4.0        2    Male   73000.0\n",
      "23   AsstProf          A   2.0        0    Male   85000.0\n",
      "24       Prof          A  30.0       23    Male   91100.0\n",
      "25       Prof          B  35.0       31    Male   99418.0\n",
      "26       Prof          A  38.0       19    Male  148750.0\n",
      "27       Prof          A  45.0       43    Male  155865.0\n",
      "28   AsstProf          B   7.0        2    Male       NaN\n",
      "29       Prof          B  21.0       20    Male  123683.0\n",
      "30  AssocProf          B   9.0        7    Male  107008.0\n",
      "31       Prof          B  22.0       21    Male  155750.0\n",
      "32       Prof          A  27.0       19    Male  103275.0\n",
      "33       Prof          B  18.0       18    Male  120000.0\n",
      "34  AssocProf          B   NaN        8    Male  119800.0\n",
      "35       Prof          B  28.0       23    Male  126933.0\n",
      "36       Prof          B  45.0       45    Male  146856.0\n",
      "37       Prof          A  20.0        8    Male  102000.0\n",
      "38   AsstProf          B   4.0        3    Male   91000.0\n",
      "39       Prof          B  18.0       18  Female  129000.0\n",
      "40       Prof          A  39.0       36  Female  137000.0\n",
      "41  AssocProf          A  13.0        8  Female   74830.0\n",
      "42   AsstProf          B   4.0        2  Female   80225.0\n",
      "43   AsstProf          B   5.0        0  Female   77000.0\n",
      "44       Prof          B  23.0       19  Female  151768.0\n",
      "45       Prof          B  25.0       25  Female  140096.0\n",
      "46   AsstProf          B  11.0        3  Female   74692.0\n",
      "47  AssocProf          B  11.0       11  Female  103613.0\n",
      "48       Prof          B  17.0       17  Female  111512.0\n",
      "49       Prof          B  17.0       18  Female  122960.0\n",
      "50   AsstProf          B  10.0        5  Female   97032.0\n",
      "51       Prof          B  20.0       14  Female  127512.0\n",
      "52       Prof          A  12.0        0  Female  105000.0\n",
      "53   AsstProf          A   5.0        3  Female   73500.0\n",
      "54  AssocProf          A  25.0       22  Female   62884.0\n",
      "55   AsstProf          A   2.0        0  Female   72500.0\n",
      "56  AssocProf          A  10.0        8  Female   77500.0\n",
      "57   AsstProf          A   3.0        1  Female   72500.0\n",
      "58       Prof          B  36.0       26  Female  144651.0\n",
      "59  AssocProf          B  12.0       10  Female  103994.0\n",
      "60   AsstProf          B   3.0        3  Female   92000.0\n",
      "61  AssocProf          B  13.0       10  Female  103750.0\n",
      "62  AssocProf          B  14.0        7  Female  109650.0\n",
      "63       Prof          A  29.0       27  Female   91000.0\n",
      "64  AssocProf          A  26.0       24  Female   73300.0\n",
      "65       Prof          A  36.0       19  Female  117555.0\n",
      "66   AsstProf          A   7.0        6  Female   63100.0\n",
      "67       Prof          A  17.0       11  Female   90450.0\n",
      "68   AsstProf          A   4.0        2  Female   77500.0\n",
      "69       Prof          A  28.0        7  Female  116450.0\n",
      "70   AsstProf          A   8.0        3  Female   78500.0\n",
      "71  AssocProf          B  12.0        9  Female   71065.0\n",
      "72       Prof          B  24.0       15  Female  161101.0\n",
      "73       Prof          B  18.0       10  Female  105450.0\n",
      "74  AssocProf          B  19.0        6  Female  104542.0\n",
      "75       Prof          B  17.0       17  Female  124312.0\n",
      "76       Prof          A  28.0       14  Female  109954.0\n",
      "77       Prof          A  23.0       15  Female  109646.0\n"
     ]
    }
   ],
   "source": [
    "print(t_df.to_string())"
   ]
  },
  {
   "cell_type": "code",
   "execution_count": 34,
   "id": "ff4c8994",
   "metadata": {},
   "outputs": [
    {
     "name": "stdout",
     "output_type": "stream",
     "text": [
      "         rank discipline   phd  service     sex    salary\n",
      "0        Prof          B  56.0       49    Male  186960.0\n",
      "1        Prof          A  12.0        6    Male   93000.0\n",
      "2        Prof          A  23.0       20    Male  110515.0\n",
      "3        Prof          A  40.0       31    Male  131205.0\n",
      "4        Prof          B  20.0       18    Male  104800.0\n",
      "5        Prof          A  20.0       20    Male  122400.0\n",
      "6   AssocProf          A  20.0       17    Male   81285.0\n",
      "8        Prof          A  29.0       19    Male   94350.0\n",
      "9        Prof          A  51.0       51    Male   57800.0\n",
      "10       Prof          B  39.0       33    Male  128250.0\n",
      "11       Prof          B  23.0       23    Male  134778.0\n",
      "12   AsstProf          B   1.0        0    Male   88000.0\n",
      "14       Prof          B  25.0       19    Male  153750.0\n",
      "15       Prof          B  17.0        3    Male  150480.0\n",
      "16   AsstProf          B   8.0        3    Male   75044.0\n",
      "17   AsstProf          B   4.0        0    Male   92000.0\n",
      "18       Prof          A  19.0        7    Male  107300.0\n",
      "19       Prof          A  29.0       27    Male  150500.0\n",
      "20   AsstProf          B   4.0        4    Male   92000.0\n",
      "21       Prof          A  33.0       30    Male  103106.0\n",
      "22   AsstProf          A   4.0        2    Male   73000.0\n",
      "23   AsstProf          A   2.0        0    Male   85000.0\n",
      "24       Prof          A  30.0       23    Male   91100.0\n",
      "25       Prof          B  35.0       31    Male   99418.0\n",
      "26       Prof          A  38.0       19    Male  148750.0\n",
      "27       Prof          A  45.0       43    Male  155865.0\n",
      "29       Prof          B  21.0       20    Male  123683.0\n",
      "30  AssocProf          B   9.0        7    Male  107008.0\n",
      "31       Prof          B  22.0       21    Male  155750.0\n",
      "32       Prof          A  27.0       19    Male  103275.0\n",
      "33       Prof          B  18.0       18    Male  120000.0\n",
      "35       Prof          B  28.0       23    Male  126933.0\n",
      "36       Prof          B  45.0       45    Male  146856.0\n",
      "37       Prof          A  20.0        8    Male  102000.0\n",
      "38   AsstProf          B   4.0        3    Male   91000.0\n",
      "39       Prof          B  18.0       18  Female  129000.0\n",
      "40       Prof          A  39.0       36  Female  137000.0\n",
      "41  AssocProf          A  13.0        8  Female   74830.0\n",
      "42   AsstProf          B   4.0        2  Female   80225.0\n",
      "43   AsstProf          B   5.0        0  Female   77000.0\n",
      "44       Prof          B  23.0       19  Female  151768.0\n",
      "45       Prof          B  25.0       25  Female  140096.0\n",
      "46   AsstProf          B  11.0        3  Female   74692.0\n",
      "47  AssocProf          B  11.0       11  Female  103613.0\n",
      "48       Prof          B  17.0       17  Female  111512.0\n",
      "49       Prof          B  17.0       18  Female  122960.0\n",
      "50   AsstProf          B  10.0        5  Female   97032.0\n",
      "51       Prof          B  20.0       14  Female  127512.0\n",
      "52       Prof          A  12.0        0  Female  105000.0\n",
      "53   AsstProf          A   5.0        3  Female   73500.0\n",
      "54  AssocProf          A  25.0       22  Female   62884.0\n",
      "55   AsstProf          A   2.0        0  Female   72500.0\n",
      "56  AssocProf          A  10.0        8  Female   77500.0\n",
      "57   AsstProf          A   3.0        1  Female   72500.0\n",
      "58       Prof          B  36.0       26  Female  144651.0\n",
      "59  AssocProf          B  12.0       10  Female  103994.0\n",
      "60   AsstProf          B   3.0        3  Female   92000.0\n",
      "61  AssocProf          B  13.0       10  Female  103750.0\n",
      "62  AssocProf          B  14.0        7  Female  109650.0\n",
      "63       Prof          A  29.0       27  Female   91000.0\n",
      "64  AssocProf          A  26.0       24  Female   73300.0\n",
      "65       Prof          A  36.0       19  Female  117555.0\n",
      "66   AsstProf          A   7.0        6  Female   63100.0\n",
      "67       Prof          A  17.0       11  Female   90450.0\n",
      "68   AsstProf          A   4.0        2  Female   77500.0\n",
      "69       Prof          A  28.0        7  Female  116450.0\n",
      "70   AsstProf          A   8.0        3  Female   78500.0\n",
      "71  AssocProf          B  12.0        9  Female   71065.0\n",
      "72       Prof          B  24.0       15  Female  161101.0\n",
      "73       Prof          B  18.0       10  Female  105450.0\n",
      "74  AssocProf          B  19.0        6  Female  104542.0\n",
      "75       Prof          B  17.0       17  Female  124312.0\n",
      "76       Prof          A  28.0       14  Female  109954.0\n",
      "77       Prof          A  23.0       15  Female  109646.0\n"
     ]
    }
   ],
   "source": [
    "nn_s_df = s_df.dropna()\n",
    "print(nn_s_df.to_string())"
   ]
  },
  {
   "cell_type": "code",
   "execution_count": 35,
   "id": "6ee95f99",
   "metadata": {},
   "outputs": [
    {
     "data": {
      "text/plain": [
       "0     False\n",
       "1     False\n",
       "2     False\n",
       "3     False\n",
       "4     False\n",
       "      ...  \n",
       "73    False\n",
       "74    False\n",
       "75    False\n",
       "76    False\n",
       "77    False\n",
       "Length: 78, dtype: bool"
      ]
     },
     "execution_count": 35,
     "metadata": {},
     "output_type": "execute_result"
    }
   ],
   "source": [
    "s_df.duplicated(\"salary\")"
   ]
  },
  {
   "cell_type": "code",
   "execution_count": 36,
   "id": "803de920",
   "metadata": {},
   "outputs": [
    {
     "data": {
      "text/plain": [
       "['rank', 'discipline', 'phd', 'service', 'sex', 'salary']"
      ]
     },
     "execution_count": 36,
     "metadata": {},
     "output_type": "execute_result"
    }
   ],
   "source": [
    "s_df.columns.tolist()"
   ]
  },
  {
   "cell_type": "code",
   "execution_count": 38,
   "id": "2f2ef392",
   "metadata": {},
   "outputs": [
    {
     "name": "stdout",
     "output_type": "stream",
     "text": [
      "108003.3552631579\n",
      "104671.0\n",
      "0    92000.0\n",
      "dtype: float64\n"
     ]
    }
   ],
   "source": [
    "print(s_df['salary'].mean())\n",
    "print(s_df['salary'].median())\n",
    "print(s_df['salary'].mode())"
   ]
  },
  {
   "cell_type": "code",
   "execution_count": 42,
   "id": "20835807",
   "metadata": {},
   "outputs": [
    {
     "data": {
      "text/plain": [
       "Prof         46\n",
       "AsstProf     19\n",
       "AssocProf    13\n",
       "Name: rank, dtype: int64"
      ]
     },
     "execution_count": 42,
     "metadata": {},
     "output_type": "execute_result"
    }
   ],
   "source": [
    "s_df[\"rank\"].value_counts()"
   ]
  },
  {
   "cell_type": "code",
   "execution_count": 43,
   "id": "65f0dc20",
   "metadata": {},
   "outputs": [
    {
     "data": {
      "text/plain": [
       "['Prof', 'AssocProf', 'AsstProf']"
      ]
     },
     "execution_count": 43,
     "metadata": {},
     "output_type": "execute_result"
    }
   ],
   "source": [
    "s_df[\"rank\"].unique().tolist()"
   ]
  },
  {
   "cell_type": "code",
   "execution_count": 44,
   "id": "0dc2a334",
   "metadata": {},
   "outputs": [
    {
     "data": {
      "text/html": [
       "<div>\n",
       "<style scoped>\n",
       "    .dataframe tbody tr th:only-of-type {\n",
       "        vertical-align: middle;\n",
       "    }\n",
       "\n",
       "    .dataframe tbody tr th {\n",
       "        vertical-align: top;\n",
       "    }\n",
       "\n",
       "    .dataframe thead th {\n",
       "        text-align: right;\n",
       "    }\n",
       "</style>\n",
       "<table border=\"1\" class=\"dataframe\">\n",
       "  <thead>\n",
       "    <tr style=\"text-align: right;\">\n",
       "      <th></th>\n",
       "      <th>rank</th>\n",
       "      <th>discipline</th>\n",
       "      <th>phd</th>\n",
       "      <th>service</th>\n",
       "      <th>sex</th>\n",
       "      <th>salary</th>\n",
       "    </tr>\n",
       "  </thead>\n",
       "  <tbody>\n",
       "    <tr>\n",
       "      <th>44</th>\n",
       "      <td>Prof</td>\n",
       "      <td>B</td>\n",
       "      <td>23.0</td>\n",
       "      <td>19</td>\n",
       "      <td>Female</td>\n",
       "      <td>151768.0</td>\n",
       "    </tr>\n",
       "    <tr>\n",
       "      <th>72</th>\n",
       "      <td>Prof</td>\n",
       "      <td>B</td>\n",
       "      <td>24.0</td>\n",
       "      <td>15</td>\n",
       "      <td>Female</td>\n",
       "      <td>161101.0</td>\n",
       "    </tr>\n",
       "  </tbody>\n",
       "</table>\n",
       "</div>"
      ],
      "text/plain": [
       "    rank discipline   phd  service     sex    salary\n",
       "44  Prof          B  23.0       19  Female  151768.0\n",
       "72  Prof          B  24.0       15  Female  161101.0"
      ]
     },
     "execution_count": 44,
     "metadata": {},
     "output_type": "execute_result"
    }
   ],
   "source": [
    "f = (s_df['salary']>150000) & (s_df['sex'] == 'Female')\n",
    "s_df[f]"
   ]
  },
  {
   "cell_type": "code",
   "execution_count": 45,
   "id": "c1a6ab1a",
   "metadata": {},
   "outputs": [],
   "source": [
    "df = pd.read_csv(\"korean_lotto.csv\")"
   ]
  },
  {
   "cell_type": "code",
   "execution_count": 46,
   "id": "88e1b7dd",
   "metadata": {},
   "outputs": [
    {
     "data": {
      "text/html": [
       "<div>\n",
       "<style scoped>\n",
       "    .dataframe tbody tr th:only-of-type {\n",
       "        vertical-align: middle;\n",
       "    }\n",
       "\n",
       "    .dataframe tbody tr th {\n",
       "        vertical-align: top;\n",
       "    }\n",
       "\n",
       "    .dataframe thead th {\n",
       "        text-align: right;\n",
       "    }\n",
       "</style>\n",
       "<table border=\"1\" class=\"dataframe\">\n",
       "  <thead>\n",
       "    <tr style=\"text-align: right;\">\n",
       "      <th></th>\n",
       "      <th>Unnamed: 0</th>\n",
       "      <th>TIME</th>\n",
       "      <th>NUM1</th>\n",
       "      <th>NUM2</th>\n",
       "      <th>NUM3</th>\n",
       "      <th>NUM4</th>\n",
       "      <th>NUM5</th>\n",
       "      <th>NUM6</th>\n",
       "      <th>BONUS_NUM</th>\n",
       "    </tr>\n",
       "  </thead>\n",
       "  <tbody>\n",
       "    <tr>\n",
       "      <th>0</th>\n",
       "      <td>0</td>\n",
       "      <td>1</td>\n",
       "      <td>10</td>\n",
       "      <td>23</td>\n",
       "      <td>29</td>\n",
       "      <td>33</td>\n",
       "      <td>37</td>\n",
       "      <td>40</td>\n",
       "      <td>16</td>\n",
       "    </tr>\n",
       "    <tr>\n",
       "      <th>1</th>\n",
       "      <td>1</td>\n",
       "      <td>2</td>\n",
       "      <td>9</td>\n",
       "      <td>13</td>\n",
       "      <td>21</td>\n",
       "      <td>25</td>\n",
       "      <td>32</td>\n",
       "      <td>42</td>\n",
       "      <td>2</td>\n",
       "    </tr>\n",
       "    <tr>\n",
       "      <th>2</th>\n",
       "      <td>2</td>\n",
       "      <td>3</td>\n",
       "      <td>11</td>\n",
       "      <td>16</td>\n",
       "      <td>19</td>\n",
       "      <td>21</td>\n",
       "      <td>27</td>\n",
       "      <td>31</td>\n",
       "      <td>30</td>\n",
       "    </tr>\n",
       "    <tr>\n",
       "      <th>3</th>\n",
       "      <td>3</td>\n",
       "      <td>4</td>\n",
       "      <td>14</td>\n",
       "      <td>27</td>\n",
       "      <td>30</td>\n",
       "      <td>31</td>\n",
       "      <td>40</td>\n",
       "      <td>42</td>\n",
       "      <td>2</td>\n",
       "    </tr>\n",
       "    <tr>\n",
       "      <th>4</th>\n",
       "      <td>4</td>\n",
       "      <td>5</td>\n",
       "      <td>16</td>\n",
       "      <td>24</td>\n",
       "      <td>29</td>\n",
       "      <td>40</td>\n",
       "      <td>41</td>\n",
       "      <td>42</td>\n",
       "      <td>3</td>\n",
       "    </tr>\n",
       "    <tr>\n",
       "      <th>...</th>\n",
       "      <td>...</td>\n",
       "      <td>...</td>\n",
       "      <td>...</td>\n",
       "      <td>...</td>\n",
       "      <td>...</td>\n",
       "      <td>...</td>\n",
       "      <td>...</td>\n",
       "      <td>...</td>\n",
       "      <td>...</td>\n",
       "    </tr>\n",
       "    <tr>\n",
       "      <th>998</th>\n",
       "      <td>998</td>\n",
       "      <td>999</td>\n",
       "      <td>1</td>\n",
       "      <td>3</td>\n",
       "      <td>9</td>\n",
       "      <td>14</td>\n",
       "      <td>18</td>\n",
       "      <td>28</td>\n",
       "      <td>34</td>\n",
       "    </tr>\n",
       "    <tr>\n",
       "      <th>999</th>\n",
       "      <td>999</td>\n",
       "      <td>1000</td>\n",
       "      <td>2</td>\n",
       "      <td>8</td>\n",
       "      <td>19</td>\n",
       "      <td>22</td>\n",
       "      <td>32</td>\n",
       "      <td>42</td>\n",
       "      <td>39</td>\n",
       "    </tr>\n",
       "    <tr>\n",
       "      <th>1000</th>\n",
       "      <td>1000</td>\n",
       "      <td>1001</td>\n",
       "      <td>6</td>\n",
       "      <td>10</td>\n",
       "      <td>12</td>\n",
       "      <td>14</td>\n",
       "      <td>20</td>\n",
       "      <td>42</td>\n",
       "      <td>15</td>\n",
       "    </tr>\n",
       "    <tr>\n",
       "      <th>1001</th>\n",
       "      <td>1001</td>\n",
       "      <td>1002</td>\n",
       "      <td>17</td>\n",
       "      <td>25</td>\n",
       "      <td>33</td>\n",
       "      <td>35</td>\n",
       "      <td>38</td>\n",
       "      <td>45</td>\n",
       "      <td>15</td>\n",
       "    </tr>\n",
       "    <tr>\n",
       "      <th>1002</th>\n",
       "      <td>1002</td>\n",
       "      <td>1003</td>\n",
       "      <td>1</td>\n",
       "      <td>4</td>\n",
       "      <td>29</td>\n",
       "      <td>39</td>\n",
       "      <td>43</td>\n",
       "      <td>45</td>\n",
       "      <td>31</td>\n",
       "    </tr>\n",
       "  </tbody>\n",
       "</table>\n",
       "<p>1003 rows × 9 columns</p>\n",
       "</div>"
      ],
      "text/plain": [
       "      Unnamed: 0  TIME  NUM1  NUM2  NUM3  NUM4  NUM5  NUM6  BONUS_NUM\n",
       "0              0     1    10    23    29    33    37    40         16\n",
       "1              1     2     9    13    21    25    32    42          2\n",
       "2              2     3    11    16    19    21    27    31         30\n",
       "3              3     4    14    27    30    31    40    42          2\n",
       "4              4     5    16    24    29    40    41    42          3\n",
       "...          ...   ...   ...   ...   ...   ...   ...   ...        ...\n",
       "998          998   999     1     3     9    14    18    28         34\n",
       "999          999  1000     2     8    19    22    32    42         39\n",
       "1000        1000  1001     6    10    12    14    20    42         15\n",
       "1001        1001  1002    17    25    33    35    38    45         15\n",
       "1002        1002  1003     1     4    29    39    43    45         31\n",
       "\n",
       "[1003 rows x 9 columns]"
      ]
     },
     "execution_count": 46,
     "metadata": {},
     "output_type": "execute_result"
    }
   ],
   "source": [
    "df"
   ]
  },
  {
   "cell_type": "code",
   "execution_count": null,
   "id": "31f85f96",
   "metadata": {},
   "outputs": [],
   "source": [
    "df"
   ]
  }
 ],
 "metadata": {
  "kernelspec": {
   "display_name": "Python 3 (ipykernel)",
   "language": "python",
   "name": "python3"
  },
  "language_info": {
   "codemirror_mode": {
    "name": "ipython",
    "version": 3
   },
   "file_extension": ".py",
   "mimetype": "text/x-python",
   "name": "python",
   "nbconvert_exporter": "python",
   "pygments_lexer": "ipython3",
   "version": "3.9.7"
  }
 },
 "nbformat": 4,
 "nbformat_minor": 5
}
