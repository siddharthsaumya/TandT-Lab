{
 "cells": [
  {
   "cell_type": "markdown",
   "id": "437a3e6c",
   "metadata": {},
   "source": [
    "# Question 3"
   ]
  },
  {
   "cell_type": "markdown",
   "id": "e90b610b",
   "metadata": {},
   "source": [
    "### Importing libraries and dataset"
   ]
  },
  {
   "cell_type": "code",
   "execution_count": 109,
   "id": "314eda9a",
   "metadata": {},
   "outputs": [],
   "source": [
    "import pandas as pd\n",
    "import numpy as np\n",
    "from sklearn import preprocessing\n",
    "from sklearn.model_selection import train_test_split\n",
    "from sklearn.metrics import accuracy_score\n",
    "from sklearn.metrics import confusion_matrix\n",
    "from sklearn.linear_model import LogisticRegression\n",
    "from sklearn.metrics import precision_recall_fscore_support as score\n",
    "from sklearn.neighbors import KNeighborsClassifier\n",
    "from sklearn.tree import DecisionTreeClassifier\n",
    "import matplotlib.pyplot as plt\n",
    "import warnings\n",
    "from sklearn import metrics\n",
    "warnings.filterwarnings(\"ignore\")"
   ]
  },
  {
   "cell_type": "code",
   "execution_count": 110,
   "id": "4cee3080",
   "metadata": {},
   "outputs": [],
   "source": [
    "df = pd.read_csv(\"Social_Network_Ads_tst.csv\")"
   ]
  },
  {
   "cell_type": "code",
   "execution_count": 111,
   "id": "a2c5e84a",
   "metadata": {
    "scrolled": true
   },
   "outputs": [
    {
     "data": {
      "text/html": [
       "<div>\n",
       "<style scoped>\n",
       "    .dataframe tbody tr th:only-of-type {\n",
       "        vertical-align: middle;\n",
       "    }\n",
       "\n",
       "    .dataframe tbody tr th {\n",
       "        vertical-align: top;\n",
       "    }\n",
       "\n",
       "    .dataframe thead th {\n",
       "        text-align: right;\n",
       "    }\n",
       "</style>\n",
       "<table border=\"1\" class=\"dataframe\">\n",
       "  <thead>\n",
       "    <tr style=\"text-align: right;\">\n",
       "      <th></th>\n",
       "      <th>User ID</th>\n",
       "      <th>Gender</th>\n",
       "      <th>Age</th>\n",
       "      <th>EstimatedSalary</th>\n",
       "      <th>Purchased</th>\n",
       "    </tr>\n",
       "  </thead>\n",
       "  <tbody>\n",
       "    <tr>\n",
       "      <th>0</th>\n",
       "      <td>15624510</td>\n",
       "      <td>Male</td>\n",
       "      <td>19</td>\n",
       "      <td>19000</td>\n",
       "      <td>0</td>\n",
       "    </tr>\n",
       "    <tr>\n",
       "      <th>1</th>\n",
       "      <td>15810944</td>\n",
       "      <td>Male</td>\n",
       "      <td>35</td>\n",
       "      <td>20000</td>\n",
       "      <td>0</td>\n",
       "    </tr>\n",
       "    <tr>\n",
       "      <th>2</th>\n",
       "      <td>15668575</td>\n",
       "      <td>Female</td>\n",
       "      <td>26</td>\n",
       "      <td>43000</td>\n",
       "      <td>0</td>\n",
       "    </tr>\n",
       "    <tr>\n",
       "      <th>3</th>\n",
       "      <td>15603246</td>\n",
       "      <td>Female</td>\n",
       "      <td>27</td>\n",
       "      <td>57000</td>\n",
       "      <td>0</td>\n",
       "    </tr>\n",
       "    <tr>\n",
       "      <th>4</th>\n",
       "      <td>15804002</td>\n",
       "      <td>Male</td>\n",
       "      <td>19</td>\n",
       "      <td>76000</td>\n",
       "      <td>0</td>\n",
       "    </tr>\n",
       "    <tr>\n",
       "      <th>...</th>\n",
       "      <td>...</td>\n",
       "      <td>...</td>\n",
       "      <td>...</td>\n",
       "      <td>...</td>\n",
       "      <td>...</td>\n",
       "    </tr>\n",
       "    <tr>\n",
       "      <th>395</th>\n",
       "      <td>15691863</td>\n",
       "      <td>Female</td>\n",
       "      <td>46</td>\n",
       "      <td>41000</td>\n",
       "      <td>1</td>\n",
       "    </tr>\n",
       "    <tr>\n",
       "      <th>396</th>\n",
       "      <td>15706071</td>\n",
       "      <td>Male</td>\n",
       "      <td>51</td>\n",
       "      <td>23000</td>\n",
       "      <td>1</td>\n",
       "    </tr>\n",
       "    <tr>\n",
       "      <th>397</th>\n",
       "      <td>15654296</td>\n",
       "      <td>Female</td>\n",
       "      <td>50</td>\n",
       "      <td>20000</td>\n",
       "      <td>1</td>\n",
       "    </tr>\n",
       "    <tr>\n",
       "      <th>398</th>\n",
       "      <td>15755018</td>\n",
       "      <td>Male</td>\n",
       "      <td>36</td>\n",
       "      <td>33000</td>\n",
       "      <td>0</td>\n",
       "    </tr>\n",
       "    <tr>\n",
       "      <th>399</th>\n",
       "      <td>15594041</td>\n",
       "      <td>Female</td>\n",
       "      <td>49</td>\n",
       "      <td>36000</td>\n",
       "      <td>1</td>\n",
       "    </tr>\n",
       "  </tbody>\n",
       "</table>\n",
       "<p>400 rows × 5 columns</p>\n",
       "</div>"
      ],
      "text/plain": [
       "      User ID  Gender  Age  EstimatedSalary  Purchased\n",
       "0    15624510    Male   19            19000          0\n",
       "1    15810944    Male   35            20000          0\n",
       "2    15668575  Female   26            43000          0\n",
       "3    15603246  Female   27            57000          0\n",
       "4    15804002    Male   19            76000          0\n",
       "..        ...     ...  ...              ...        ...\n",
       "395  15691863  Female   46            41000          1\n",
       "396  15706071    Male   51            23000          1\n",
       "397  15654296  Female   50            20000          1\n",
       "398  15755018    Male   36            33000          0\n",
       "399  15594041  Female   49            36000          1\n",
       "\n",
       "[400 rows x 5 columns]"
      ]
     },
     "execution_count": 111,
     "metadata": {},
     "output_type": "execute_result"
    }
   ],
   "source": [
    "df"
   ]
  },
  {
   "cell_type": "markdown",
   "id": "d6349423",
   "metadata": {},
   "source": [
    "### Droping useless column"
   ]
  },
  {
   "cell_type": "code",
   "execution_count": 112,
   "id": "4d48f5f3",
   "metadata": {},
   "outputs": [],
   "source": [
    "df.drop(['User ID'], axis = 1, inplace = True)"
   ]
  },
  {
   "cell_type": "code",
   "execution_count": 113,
   "id": "ab55625f",
   "metadata": {},
   "outputs": [
    {
     "data": {
      "text/html": [
       "<div>\n",
       "<style scoped>\n",
       "    .dataframe tbody tr th:only-of-type {\n",
       "        vertical-align: middle;\n",
       "    }\n",
       "\n",
       "    .dataframe tbody tr th {\n",
       "        vertical-align: top;\n",
       "    }\n",
       "\n",
       "    .dataframe thead th {\n",
       "        text-align: right;\n",
       "    }\n",
       "</style>\n",
       "<table border=\"1\" class=\"dataframe\">\n",
       "  <thead>\n",
       "    <tr style=\"text-align: right;\">\n",
       "      <th></th>\n",
       "      <th>Gender</th>\n",
       "      <th>Age</th>\n",
       "      <th>EstimatedSalary</th>\n",
       "      <th>Purchased</th>\n",
       "    </tr>\n",
       "  </thead>\n",
       "  <tbody>\n",
       "    <tr>\n",
       "      <th>0</th>\n",
       "      <td>Male</td>\n",
       "      <td>19</td>\n",
       "      <td>19000</td>\n",
       "      <td>0</td>\n",
       "    </tr>\n",
       "    <tr>\n",
       "      <th>1</th>\n",
       "      <td>Male</td>\n",
       "      <td>35</td>\n",
       "      <td>20000</td>\n",
       "      <td>0</td>\n",
       "    </tr>\n",
       "    <tr>\n",
       "      <th>2</th>\n",
       "      <td>Female</td>\n",
       "      <td>26</td>\n",
       "      <td>43000</td>\n",
       "      <td>0</td>\n",
       "    </tr>\n",
       "    <tr>\n",
       "      <th>3</th>\n",
       "      <td>Female</td>\n",
       "      <td>27</td>\n",
       "      <td>57000</td>\n",
       "      <td>0</td>\n",
       "    </tr>\n",
       "    <tr>\n",
       "      <th>4</th>\n",
       "      <td>Male</td>\n",
       "      <td>19</td>\n",
       "      <td>76000</td>\n",
       "      <td>0</td>\n",
       "    </tr>\n",
       "    <tr>\n",
       "      <th>...</th>\n",
       "      <td>...</td>\n",
       "      <td>...</td>\n",
       "      <td>...</td>\n",
       "      <td>...</td>\n",
       "    </tr>\n",
       "    <tr>\n",
       "      <th>395</th>\n",
       "      <td>Female</td>\n",
       "      <td>46</td>\n",
       "      <td>41000</td>\n",
       "      <td>1</td>\n",
       "    </tr>\n",
       "    <tr>\n",
       "      <th>396</th>\n",
       "      <td>Male</td>\n",
       "      <td>51</td>\n",
       "      <td>23000</td>\n",
       "      <td>1</td>\n",
       "    </tr>\n",
       "    <tr>\n",
       "      <th>397</th>\n",
       "      <td>Female</td>\n",
       "      <td>50</td>\n",
       "      <td>20000</td>\n",
       "      <td>1</td>\n",
       "    </tr>\n",
       "    <tr>\n",
       "      <th>398</th>\n",
       "      <td>Male</td>\n",
       "      <td>36</td>\n",
       "      <td>33000</td>\n",
       "      <td>0</td>\n",
       "    </tr>\n",
       "    <tr>\n",
       "      <th>399</th>\n",
       "      <td>Female</td>\n",
       "      <td>49</td>\n",
       "      <td>36000</td>\n",
       "      <td>1</td>\n",
       "    </tr>\n",
       "  </tbody>\n",
       "</table>\n",
       "<p>400 rows × 4 columns</p>\n",
       "</div>"
      ],
      "text/plain": [
       "     Gender  Age  EstimatedSalary  Purchased\n",
       "0      Male   19            19000          0\n",
       "1      Male   35            20000          0\n",
       "2    Female   26            43000          0\n",
       "3    Female   27            57000          0\n",
       "4      Male   19            76000          0\n",
       "..      ...  ...              ...        ...\n",
       "395  Female   46            41000          1\n",
       "396    Male   51            23000          1\n",
       "397  Female   50            20000          1\n",
       "398    Male   36            33000          0\n",
       "399  Female   49            36000          1\n",
       "\n",
       "[400 rows x 4 columns]"
      ]
     },
     "execution_count": 113,
     "metadata": {},
     "output_type": "execute_result"
    }
   ],
   "source": [
    "df"
   ]
  },
  {
   "cell_type": "code",
   "execution_count": 114,
   "id": "a6c77739",
   "metadata": {},
   "outputs": [],
   "source": [
    "algorithm = []\n",
    "accuracy = []\n",
    "sensitivity = []\n",
    "f_score = []\n",
    "precision = []"
   ]
  },
  {
   "cell_type": "markdown",
   "id": "812b6f9e",
   "metadata": {},
   "source": [
    "### Label encoding"
   ]
  },
  {
   "cell_type": "code",
   "execution_count": 115,
   "id": "104787e0",
   "metadata": {},
   "outputs": [],
   "source": [
    "label_encoder = preprocessing.LabelEncoder()"
   ]
  },
  {
   "cell_type": "code",
   "execution_count": 116,
   "id": "53e7e605",
   "metadata": {},
   "outputs": [
    {
     "name": "stdout",
     "output_type": "stream",
     "text": [
      "['Male' 'Female']\n",
      "[1 0]\n"
     ]
    }
   ],
   "source": [
    "print(df['Gender'].unique())\n",
    "df['Gender']= label_encoder.fit_transform(df['Gender'])\n",
    "print(df['Gender'].unique())"
   ]
  },
  {
   "cell_type": "markdown",
   "id": "46d89c30",
   "metadata": {},
   "source": [
    "### Splitting"
   ]
  },
  {
   "cell_type": "code",
   "execution_count": 117,
   "id": "8af67cdd",
   "metadata": {},
   "outputs": [],
   "source": [
    "X = df.iloc[:,0:3]\n",
    "Y = df.iloc[:,3]"
   ]
  },
  {
   "cell_type": "code",
   "execution_count": 118,
   "id": "dabf8439",
   "metadata": {},
   "outputs": [],
   "source": [
    "X_train, X_test, y_train, y_test = train_test_split(X, Y, test_size=0.25, random_state=0)"
   ]
  },
  {
   "cell_type": "markdown",
   "id": "4ba929a8",
   "metadata": {},
   "source": [
    "### Functions"
   ]
  },
  {
   "cell_type": "code",
   "execution_count": 119,
   "id": "f8a0420e",
   "metadata": {},
   "outputs": [],
   "source": [
    "def scores(y_test,y_pred):\n",
    "    cm = confusion_matrix(y_test,y_pred)\n",
    "    TP = cm[1][1]\n",
    "    TN = cm[0][0]\n",
    "    FP = cm[0][1]\n",
    "    FN = cm[1][0]\n",
    "    accu = accuracy_score(y_test, y_pred)\n",
    "    sens = TP /(TP+FN)\n",
    "    prec = TP/(TP+FP)\n",
    "    fs = 2*(prec*sens)/(prec+sens)\n",
    "    \n",
    "    accuracy.append(accu)\n",
    "    sensitivity.append(sens)\n",
    "    precision.append(prec)\n",
    "    f_score.append(fs)"
   ]
  },
  {
   "cell_type": "markdown",
   "id": "da2ee09a",
   "metadata": {},
   "source": [
    "### Logistic Regression"
   ]
  },
  {
   "cell_type": "code",
   "execution_count": 120,
   "id": "9831ae4e",
   "metadata": {},
   "outputs": [
    {
     "name": "stdout",
     "output_type": "stream",
     "text": [
      "[0]\n"
     ]
    }
   ],
   "source": [
    "model = LogisticRegression()\n",
    "model.fit(X_train, y_train)\n",
    "y_pred = model.predict(X_test)\n",
    "algorithm.append(\"LogisticRegression\")\n",
    "scores(y_test,y_pred)\n",
    "predicted = model.predict([[1,25,91000]])\n",
    "print(predicted)"
   ]
  },
  {
   "cell_type": "markdown",
   "id": "ec09a513",
   "metadata": {},
   "source": [
    "### KNN"
   ]
  },
  {
   "cell_type": "code",
   "execution_count": 121,
   "id": "0bedc47a",
   "metadata": {},
   "outputs": [
    {
     "name": "stdout",
     "output_type": "stream",
     "text": [
      "[0]\n"
     ]
    }
   ],
   "source": [
    "model = KNeighborsClassifier(n_neighbors=3)\n",
    "model.fit(X_train, y_train)\n",
    "y_pred = model.predict(X_test)\n",
    "algorithm.append(\"KNN\")\n",
    "scores(y_test,y_pred)\n",
    "predicted = model.predict([[1,25,91000]])\n",
    "print(predicted)"
   ]
  },
  {
   "cell_type": "markdown",
   "id": "9315dc0d",
   "metadata": {},
   "source": [
    "### Decision Tree"
   ]
  },
  {
   "cell_type": "code",
   "execution_count": 122,
   "id": "073f9fd8",
   "metadata": {},
   "outputs": [
    {
     "name": "stdout",
     "output_type": "stream",
     "text": [
      "[0]\n"
     ]
    }
   ],
   "source": [
    "dtree=DecisionTreeClassifier()\n",
    "dtree.fit(X_train,y_train)\n",
    "y_pred = dtree.predict(X_test)\n",
    "algorithm.append(\"DecisionTree\")\n",
    "scores(y_test,y_pred)\n",
    "predicted = model.predict([[1,25,91000]])\n",
    "print(predicted)"
   ]
  },
  {
   "cell_type": "markdown",
   "id": "b43cb17d",
   "metadata": {},
   "source": [
    "### Checking performance"
   ]
  },
  {
   "cell_type": "code",
   "execution_count": 123,
   "id": "e19d97a3",
   "metadata": {},
   "outputs": [
    {
     "data": {
      "text/html": [
       "<style type=\"text/css\">\n",
       "</style>\n",
       "<table id=\"T_2ba66_\">\n",
       "  <thead>\n",
       "    <tr>\n",
       "      <th class=\"col_heading level0 col0\" >Algorithm</th>\n",
       "      <th class=\"col_heading level0 col1\" >Accuracy</th>\n",
       "      <th class=\"col_heading level0 col2\" >Sensitivity</th>\n",
       "      <th class=\"col_heading level0 col3\" >F-Score</th>\n",
       "      <th class=\"col_heading level0 col4\" >Precision</th>\n",
       "    </tr>\n",
       "  </thead>\n",
       "  <tbody>\n",
       "    <tr>\n",
       "      <td id=\"T_2ba66_row0_col0\" class=\"data row0 col0\" >LogisticRegression</td>\n",
       "      <td id=\"T_2ba66_row0_col1\" class=\"data row0 col1\" >0.680000</td>\n",
       "      <td id=\"T_2ba66_row0_col2\" class=\"data row0 col2\" >0.000000</td>\n",
       "      <td id=\"T_2ba66_row0_col3\" class=\"data row0 col3\" >nan</td>\n",
       "      <td id=\"T_2ba66_row0_col4\" class=\"data row0 col4\" >nan</td>\n",
       "    </tr>\n",
       "    <tr>\n",
       "      <td id=\"T_2ba66_row1_col0\" class=\"data row1 col0\" >KNN</td>\n",
       "      <td id=\"T_2ba66_row1_col1\" class=\"data row1 col1\" >0.780000</td>\n",
       "      <td id=\"T_2ba66_row1_col2\" class=\"data row1 col2\" >0.656250</td>\n",
       "      <td id=\"T_2ba66_row1_col3\" class=\"data row1 col3\" >0.656250</td>\n",
       "      <td id=\"T_2ba66_row1_col4\" class=\"data row1 col4\" >0.656250</td>\n",
       "    </tr>\n",
       "    <tr>\n",
       "      <td id=\"T_2ba66_row2_col0\" class=\"data row2 col0\" >DecisionTree</td>\n",
       "      <td id=\"T_2ba66_row2_col1\" class=\"data row2 col1\" >0.920000</td>\n",
       "      <td id=\"T_2ba66_row2_col2\" class=\"data row2 col2\" >0.906250</td>\n",
       "      <td id=\"T_2ba66_row2_col3\" class=\"data row2 col3\" >0.878788</td>\n",
       "      <td id=\"T_2ba66_row2_col4\" class=\"data row2 col4\" >0.852941</td>\n",
       "    </tr>\n",
       "  </tbody>\n",
       "</table>\n"
      ],
      "text/plain": [
       "<pandas.io.formats.style.Styler at 0x1a77a6263d0>"
      ]
     },
     "execution_count": 123,
     "metadata": {},
     "output_type": "execute_result"
    }
   ],
   "source": [
    "score_df = pd.DataFrame(list(zip(algorithm, accuracy, sensitivity, f_score, precision)),columns =['Algorithm', 'Accuracy', 'Sensitivity', 'F-Score', 'Precision'])\n",
    "score_df.style.hide_index()"
   ]
  },
  {
   "cell_type": "markdown",
   "id": "bbb50cb5",
   "metadata": {},
   "source": [
    "### Bar Plot"
   ]
  },
  {
   "cell_type": "code",
   "execution_count": 124,
   "id": "d19fb05b",
   "metadata": {},
   "outputs": [
    {
     "data": {
      "text/plain": [
       "<function matplotlib.pyplot.show(close=None, block=None)>"
      ]
     },
     "execution_count": 124,
     "metadata": {},
     "output_type": "execute_result"
    },
    {
     "data": {
      "image/png": "[encoded data removed]",
      "text/plain": [
       "<Figure size 432x288 with 1 Axes>"
      ]
     },
     "metadata": {
      "needs_background": "light"
     },
     "output_type": "display_data"
    }
   ],
   "source": [
    "plt.bar(score_df['Algorithm'], score_df[\"Accuracy\"])\n",
    "plt.xlabel('Algorithms')\n",
    "plt.ylabel(\"Accuracy\")\n",
    "plt.show"
   ]
  },
  {
   "cell_type": "code",
   "execution_count": 125,
   "id": "b3b886df",
   "metadata": {},
   "outputs": [
    {
     "data": {
      "text/plain": [
       "<function matplotlib.pyplot.show(close=None, block=None)>"
      ]
     },
     "execution_count": 125,
     "metadata": {},
     "output_type": "execute_result"
    },
    {
     "data": {
      "image/png": "[encoded data removed]",
      "text/plain": [
       "<Figure size 432x288 with 1 Axes>"
      ]
     },
     "metadata": {
      "needs_background": "light"
     },
     "output_type": "display_data"
    }
   ],
   "source": [
    "plt.bar(score_df['Algorithm'], score_df[\"Sensitivity\"])\n",
    "plt.xlabel('Algorithms')\n",
    "plt.ylabel(\"Sensitivity\")\n",
    "plt.show"
   ]
  },
  {
   "cell_type": "code",
   "execution_count": 126,
   "id": "ff0db957",
   "metadata": {},
   "outputs": [
    {
     "data": {
      "text/plain": [
       "<function matplotlib.pyplot.show(close=None, block=None)>"
      ]
     },
     "execution_count": 126,
     "metadata": {},
     "output_type": "execute_result"
    },
    {
     "data": {
      "image/png": "[encoded data removed]",
      "text/plain": [
       "<Figure size 432x288 with 1 Axes>"
      ]
     },
     "metadata": {
      "needs_background": "light"
     },
     "output_type": "display_data"
    }
   ],
   "source": [
    "plt.bar(score_df['Algorithm'], score_df[\"F-Score\"])\n",
    "plt.xlabel('Algorithms')\n",
    "plt.ylabel(\"F-Score\")\n",
    "plt.show"
   ]
  },
  {
   "cell_type": "code",
   "execution_count": 127,
   "id": "7bb146f4",
   "metadata": {},
   "outputs": [
    {
     "data": {
      "text/plain": [
       "<function matplotlib.pyplot.show(close=None, block=None)>"
      ]
     },
     "execution_count": 127,
     "metadata": {},
     "output_type": "execute_result"
    },
    {
     "data": {
      "image/png": "[encoded data removed]",
      "text/plain": [
       "<Figure size 432x288 with 1 Axes>"
      ]
     },
     "metadata": {
      "needs_background": "light"
     },
     "output_type": "display_data"
    }
   ],
   "source": [
    "plt.bar(score_df['Algorithm'], score_df[\"Precision\"])\n",
    "plt.xlabel('Algorithms')\n",
    "plt.ylabel(\"Precision\")\n",
    "plt.show"
   ]
  },
  {
   "cell_type": "markdown",
   "id": "f5a11f0e",
   "metadata": {},
   "source": [
    "# Question 1"
   ]
  },
  {
   "cell_type": "markdown",
   "id": "d4a7668e",
   "metadata": {},
   "source": [
    "### Creating dataset"
   ]
  },
  {
   "cell_type": "code",
   "execution_count": 128,
   "id": "7f0c1a45",
   "metadata": {},
   "outputs": [],
   "source": [
    "s_roll = [1,2,3,4,5,6,7,8,9,10,11,12,13,14,15,16,17,18,19,20]\n",
    "v_num = [\"a22\",\"v32\",\"g44\",\"h32\",\"t53\",\"u53\",\"i67\",\"g25\",\"n75\",\"j64\",\"x45\",\"l53\",\"y22\",\"k43\",\"o75\",\"p33\",\"d56\",\"n32\",\"z65\",\"f69\"]\n",
    "v_col = [\"red\",\"blue\",\"black\",\"white\",\"silver\",\"red\",\"blue\",\"black\",\"white\",\"silver\",\"red\",\"blue\",\"black\",\"white\",\"silver\",\"red\",\"blue\",\"black\",\"white\",\"silver\"]\n",
    "v_name = [\"tata\",\"jaguar\",\"audi\",\"tesla\",\"tata\",\"jaguar\",\"audi\",\"tesla\",\"tata\",\"jaguar\",\"audi\",\"tesla\",\"tata\",\"jaguar\",\"audi\",\"tesla\",\"tata\",\"jaguar\",\"audi\",\"tesla\"]\n",
    "s_name = [\"raj\",\"ram\",\"kumar\",\"shalini\",\"priya\",\"rani\",\"sita\",\"lakshman\",\"bajrangi\",\"ravan\",\"arjun\",\"bheem\",\"supriya\",\"srisri\",\"sai\",\"priyanka\",\"kareena\",\"kriti\",\"gauri\",\"rani\"]"
   ]
  },
  {
   "cell_type": "code",
   "execution_count": 129,
   "id": "e5f57315",
   "metadata": {},
   "outputs": [],
   "source": [
    "df = pd.DataFrame(list(zip(s_roll, v_num, v_col, v_name, s_name)),columns =['Student Roll Number', 'Vehicle Number', 'Vehicle Color', 'Vehicle Name', 'Student Name'])"
   ]
  },
  {
   "cell_type": "code",
   "execution_count": 130,
   "id": "994aed28",
   "metadata": {},
   "outputs": [
    {
     "data": {
      "text/html": [
       "<div>\n",
       "<style scoped>\n",
       "    .dataframe tbody tr th:only-of-type {\n",
       "        vertical-align: middle;\n",
       "    }\n",
       "\n",
       "    .dataframe tbody tr th {\n",
       "        vertical-align: top;\n",
       "    }\n",
       "\n",
       "    .dataframe thead th {\n",
       "        text-align: right;\n",
       "    }\n",
       "</style>\n",
       "<table border=\"1\" class=\"dataframe\">\n",
       "  <thead>\n",
       "    <tr style=\"text-align: right;\">\n",
       "      <th></th>\n",
       "      <th>Student Roll Number</th>\n",
       "      <th>Vehicle Number</th>\n",
       "      <th>Vehicle Color</th>\n",
       "      <th>Vehicle Name</th>\n",
       "      <th>Student Name</th>\n",
       "    </tr>\n",
       "  </thead>\n",
       "  <tbody>\n",
       "    <tr>\n",
       "      <th>0</th>\n",
       "      <td>1</td>\n",
       "      <td>a22</td>\n",
       "      <td>red</td>\n",
       "      <td>tata</td>\n",
       "      <td>raj</td>\n",
       "    </tr>\n",
       "    <tr>\n",
       "      <th>1</th>\n",
       "      <td>2</td>\n",
       "      <td>v32</td>\n",
       "      <td>blue</td>\n",
       "      <td>jaguar</td>\n",
       "      <td>ram</td>\n",
       "    </tr>\n",
       "    <tr>\n",
       "      <th>2</th>\n",
       "      <td>3</td>\n",
       "      <td>g44</td>\n",
       "      <td>black</td>\n",
       "      <td>audi</td>\n",
       "      <td>kumar</td>\n",
       "    </tr>\n",
       "    <tr>\n",
       "      <th>3</th>\n",
       "      <td>4</td>\n",
       "      <td>h32</td>\n",
       "      <td>white</td>\n",
       "      <td>tesla</td>\n",
       "      <td>shalini</td>\n",
       "    </tr>\n",
       "    <tr>\n",
       "      <th>4</th>\n",
       "      <td>5</td>\n",
       "      <td>t53</td>\n",
       "      <td>silver</td>\n",
       "      <td>tata</td>\n",
       "      <td>priya</td>\n",
       "    </tr>\n",
       "    <tr>\n",
       "      <th>5</th>\n",
       "      <td>6</td>\n",
       "      <td>u53</td>\n",
       "      <td>red</td>\n",
       "      <td>jaguar</td>\n",
       "      <td>rani</td>\n",
       "    </tr>\n",
       "    <tr>\n",
       "      <th>6</th>\n",
       "      <td>7</td>\n",
       "      <td>i67</td>\n",
       "      <td>blue</td>\n",
       "      <td>audi</td>\n",
       "      <td>sita</td>\n",
       "    </tr>\n",
       "    <tr>\n",
       "      <th>7</th>\n",
       "      <td>8</td>\n",
       "      <td>g25</td>\n",
       "      <td>black</td>\n",
       "      <td>tesla</td>\n",
       "      <td>lakshman</td>\n",
       "    </tr>\n",
       "    <tr>\n",
       "      <th>8</th>\n",
       "      <td>9</td>\n",
       "      <td>n75</td>\n",
       "      <td>white</td>\n",
       "      <td>tata</td>\n",
       "      <td>bajrangi</td>\n",
       "    </tr>\n",
       "    <tr>\n",
       "      <th>9</th>\n",
       "      <td>10</td>\n",
       "      <td>j64</td>\n",
       "      <td>silver</td>\n",
       "      <td>jaguar</td>\n",
       "      <td>ravan</td>\n",
       "    </tr>\n",
       "    <tr>\n",
       "      <th>10</th>\n",
       "      <td>11</td>\n",
       "      <td>x45</td>\n",
       "      <td>red</td>\n",
       "      <td>audi</td>\n",
       "      <td>arjun</td>\n",
       "    </tr>\n",
       "    <tr>\n",
       "      <th>11</th>\n",
       "      <td>12</td>\n",
       "      <td>l53</td>\n",
       "      <td>blue</td>\n",
       "      <td>tesla</td>\n",
       "      <td>bheem</td>\n",
       "    </tr>\n",
       "    <tr>\n",
       "      <th>12</th>\n",
       "      <td>13</td>\n",
       "      <td>y22</td>\n",
       "      <td>black</td>\n",
       "      <td>tata</td>\n",
       "      <td>supriya</td>\n",
       "    </tr>\n",
       "    <tr>\n",
       "      <th>13</th>\n",
       "      <td>14</td>\n",
       "      <td>k43</td>\n",
       "      <td>white</td>\n",
       "      <td>jaguar</td>\n",
       "      <td>srisri</td>\n",
       "    </tr>\n",
       "    <tr>\n",
       "      <th>14</th>\n",
       "      <td>15</td>\n",
       "      <td>o75</td>\n",
       "      <td>silver</td>\n",
       "      <td>audi</td>\n",
       "      <td>sai</td>\n",
       "    </tr>\n",
       "    <tr>\n",
       "      <th>15</th>\n",
       "      <td>16</td>\n",
       "      <td>p33</td>\n",
       "      <td>red</td>\n",
       "      <td>tesla</td>\n",
       "      <td>priyanka</td>\n",
       "    </tr>\n",
       "    <tr>\n",
       "      <th>16</th>\n",
       "      <td>17</td>\n",
       "      <td>d56</td>\n",
       "      <td>blue</td>\n",
       "      <td>tata</td>\n",
       "      <td>kareena</td>\n",
       "    </tr>\n",
       "    <tr>\n",
       "      <th>17</th>\n",
       "      <td>18</td>\n",
       "      <td>n32</td>\n",
       "      <td>black</td>\n",
       "      <td>jaguar</td>\n",
       "      <td>kriti</td>\n",
       "    </tr>\n",
       "    <tr>\n",
       "      <th>18</th>\n",
       "      <td>19</td>\n",
       "      <td>z65</td>\n",
       "      <td>white</td>\n",
       "      <td>audi</td>\n",
       "      <td>gauri</td>\n",
       "    </tr>\n",
       "    <tr>\n",
       "      <th>19</th>\n",
       "      <td>20</td>\n",
       "      <td>f69</td>\n",
       "      <td>silver</td>\n",
       "      <td>tesla</td>\n",
       "      <td>rani</td>\n",
       "    </tr>\n",
       "  </tbody>\n",
       "</table>\n",
       "</div>"
      ],
      "text/plain": [
       "    Student Roll Number Vehicle Number Vehicle Color Vehicle Name Student Name\n",
       "0                     1            a22           red         tata          raj\n",
       "1                     2            v32          blue       jaguar          ram\n",
       "2                     3            g44         black         audi        kumar\n",
       "3                     4            h32         white        tesla      shalini\n",
       "4                     5            t53        silver         tata        priya\n",
       "5                     6            u53           red       jaguar         rani\n",
       "6                     7            i67          blue         audi         sita\n",
       "7                     8            g25         black        tesla     lakshman\n",
       "8                     9            n75         white         tata     bajrangi\n",
       "9                    10            j64        silver       jaguar        ravan\n",
       "10                   11            x45           red         audi        arjun\n",
       "11                   12            l53          blue        tesla        bheem\n",
       "12                   13            y22         black         tata      supriya\n",
       "13                   14            k43         white       jaguar       srisri\n",
       "14                   15            o75        silver         audi          sai\n",
       "15                   16            p33           red        tesla     priyanka\n",
       "16                   17            d56          blue         tata      kareena\n",
       "17                   18            n32         black       jaguar        kriti\n",
       "18                   19            z65         white         audi        gauri\n",
       "19                   20            f69        silver        tesla         rani"
      ]
     },
     "execution_count": 130,
     "metadata": {},
     "output_type": "execute_result"
    }
   ],
   "source": [
    "df"
   ]
  },
  {
   "cell_type": "markdown",
   "id": "051eaeca",
   "metadata": {},
   "source": [
    "### Catagorizing into color and roll"
   ]
  },
  {
   "cell_type": "code",
   "execution_count": 131,
   "id": "3f5a3c61",
   "metadata": {},
   "outputs": [
    {
     "data": {
      "text/plain": [
       "[[1, 6, 11, 16],\n",
       " [2, 7, 12, 17],\n",
       " [3, 8, 13, 18],\n",
       " [4, 9, 14, 19],\n",
       " [5, 10, 15, 20]]"
      ]
     },
     "execution_count": 131,
     "metadata": {},
     "output_type": "execute_result"
    }
   ],
   "source": [
    "color_lst = df['Vehicle Color'].unique()\n",
    "final_lst = []\n",
    "for i in range(0,5):\n",
    "    temp_df = df[df['Vehicle Color'] == color_lst[i]]\n",
    "    final_lst.append(list(temp_df['Student Roll Number']))\n",
    "final_lst"
   ]
  },
  {
   "cell_type": "markdown",
   "id": "0cfeba7b",
   "metadata": {},
   "source": [
    "### Printing final output"
   ]
  },
  {
   "cell_type": "code",
   "execution_count": 132,
   "id": "4273faf0",
   "metadata": {
    "scrolled": false
   },
   "outputs": [
    {
     "name": "stdout",
     "output_type": "stream",
     "text": [
      "Section A is alloted to students with vehicle color red. Roll Numbers are:\n",
      "1\n",
      "6\n",
      "11\n",
      "16\n",
      "\n",
      "Section B is alloted to students with vehicle color blue. Roll Numbers are:\n",
      "2\n",
      "7\n",
      "12\n",
      "17\n",
      "\n",
      "Section C is alloted to students with vehicle color black. Roll Numbers are:\n",
      "3\n",
      "8\n",
      "13\n",
      "18\n",
      "\n",
      "Section D is alloted to students with vehicle color white. Roll Numbers are:\n",
      "4\n",
      "9\n",
      "14\n",
      "19\n",
      "\n",
      "Section E is alloted to students with vehicle color silver. Roll Numbers are:\n",
      "5\n",
      "10\n",
      "15\n",
      "20\n",
      "\n"
     ]
    }
   ],
   "source": [
    "for i in range(0,5):\n",
    "    print(\"Section \"+chr(i+65)+\" is alloted to students with vehicle color \"+color_lst[i]+\". Roll Numbers are:\")\n",
    "    for j in range(0,4):\n",
    "        print(final_lst[i][j])\n",
    "    print()"
   ]
  },
  {
   "cell_type": "markdown",
   "id": "a6f29f62",
   "metadata": {},
   "source": [
    "### User check their section by roll"
   ]
  },
  {
   "cell_type": "code",
   "execution_count": 136,
   "id": "d88e7ea2",
   "metadata": {},
   "outputs": [
    {
     "name": "stdout",
     "output_type": "stream",
     "text": [
      "3\n",
      "Your alloted section is C\n"
     ]
    }
   ],
   "source": [
    "roll = int(input())\n",
    "for i in range(0,5):\n",
    "    if roll in final_lst[i]:\n",
    "        print(\"Your alloted section is\",chr(i+65))"
   ]
  },
  {
   "cell_type": "markdown",
   "id": "bc02614e",
   "metadata": {},
   "source": [
    "# Question 2"
   ]
  },
  {
   "cell_type": "code",
   "execution_count": 133,
   "id": "54cbf74e",
   "metadata": {},
   "outputs": [
    {
     "name": "stdout",
     "output_type": "stream",
     "text": [
      "Enter shop name: Raju Kirana\n",
      "Enter total no. of products: 3\n",
      "Enter ProductID: 1\n",
      "Enter Product name: Soap\n",
      "Enter Product quantity: 2\n",
      "Enter Product cost: 5\n",
      "Enter ProductID: 2\n",
      "Enter Product name: Shampoo\n",
      "Enter Product quantity: 2\n",
      "Enter Product cost: 50\n",
      "Enter ProductID: 3\n",
      "Enter Product name: Towel\n",
      "Enter Product quantity: 2\n",
      "Enter Product cost: 100\n"
     ]
    }
   ],
   "source": [
    "from datetime import datetime\n",
    "\n",
    "shop_name=input(\"Enter shop name: \")\n",
    "date=datetime.date(datetime.now())\n",
    "time=datetime.time(datetime.now())\n",
    "n=int(input('Enter total no. of products: '))\n",
    "\n",
    "pid=[]\n",
    "pname=[]\n",
    "quantity=[]\n",
    "cost=[]\n",
    "\n",
    "for _ in range(n):\n",
    "    pid.append(input('Enter ProductID: '))\n",
    "    pname.append(input('Enter Product name: '))\n",
    "    quantity.append(input('Enter Product quantity: '))\n",
    "    cost.append(input('Enter Product cost: '))\n",
    "\n",
    "df=pd.DataFrame({'ProductID':pid, 'Product name':pname, 'Quantity': quantity, 'price': cost})"
   ]
  },
  {
   "cell_type": "code",
   "execution_count": 134,
   "id": "45eb8fc6",
   "metadata": {},
   "outputs": [],
   "source": [
    "df['price']=pd.to_numeric(df['price'])\n",
    "\n",
    "total_discount=0\n",
    "\n",
    "if df['price'].sum() > 5000:\n",
    "    df['Discount applied']=10\n",
    "    total_discount=5\n",
    "elif 5000 > df['price'].sum() > 2000:\n",
    "    df['Discount applied']=5\n",
    "    total_discount=2.5\n",
    "else:\n",
    "    df['Discount applied']=5\n",
    "\n",
    "df['Discount applied']=pd.to_numeric(df['Discount applied'])\n",
    "\n",
    "df['Discounted price']=df['price']-(df['price']*df['Discount applied']/100)\n",
    "total_discounted_price=df['Discounted price'].sum()-(df['Discounted price'].sum()*total_discount/100)"
   ]
  },
  {
   "cell_type": "code",
   "execution_count": 135,
   "id": "56c44259",
   "metadata": {},
   "outputs": [
    {
     "name": "stdout",
     "output_type": "stream",
     "text": [
      "Date: 2022-04-11 \t\t Shop Name: Raju Kirana \t\t Time: 13:26:54.174710\n",
      "Total price:  155\n",
      "Total discount applied:  0\n",
      "After discount price:  147.25\n"
     ]
    },
    {
     "data": {
      "text/html": [
       "<div>\n",
       "<style scoped>\n",
       "    .dataframe tbody tr th:only-of-type {\n",
       "        vertical-align: middle;\n",
       "    }\n",
       "\n",
       "    .dataframe tbody tr th {\n",
       "        vertical-align: top;\n",
       "    }\n",
       "\n",
       "    .dataframe thead th {\n",
       "        text-align: right;\n",
       "    }\n",
       "</style>\n",
       "<table border=\"1\" class=\"dataframe\">\n",
       "  <thead>\n",
       "    <tr style=\"text-align: right;\">\n",
       "      <th></th>\n",
       "      <th>ProductID</th>\n",
       "      <th>Product name</th>\n",
       "      <th>Quantity</th>\n",
       "      <th>price</th>\n",
       "      <th>Discount applied</th>\n",
       "      <th>Discounted price</th>\n",
       "    </tr>\n",
       "  </thead>\n",
       "  <tbody>\n",
       "    <tr>\n",
       "      <th>0</th>\n",
       "      <td>1</td>\n",
       "      <td>Soap</td>\n",
       "      <td>2</td>\n",
       "      <td>5</td>\n",
       "      <td>5</td>\n",
       "      <td>4.75</td>\n",
       "    </tr>\n",
       "    <tr>\n",
       "      <th>1</th>\n",
       "      <td>2</td>\n",
       "      <td>Shampoo</td>\n",
       "      <td>2</td>\n",
       "      <td>50</td>\n",
       "      <td>5</td>\n",
       "      <td>47.50</td>\n",
       "    </tr>\n",
       "    <tr>\n",
       "      <th>2</th>\n",
       "      <td>3</td>\n",
       "      <td>Towel</td>\n",
       "      <td>2</td>\n",
       "      <td>100</td>\n",
       "      <td>5</td>\n",
       "      <td>95.00</td>\n",
       "    </tr>\n",
       "  </tbody>\n",
       "</table>\n",
       "</div>"
      ],
      "text/plain": [
       "  ProductID Product name Quantity  price  Discount applied  Discounted price\n",
       "0         1         Soap        2      5                 5              4.75\n",
       "1         2      Shampoo        2     50                 5             47.50\n",
       "2         3        Towel        2    100                 5             95.00"
      ]
     },
     "execution_count": 135,
     "metadata": {},
     "output_type": "execute_result"
    }
   ],
   "source": [
    "print('Date: {} \\t\\t Shop Name: {} \\t\\t Time: {}'.format(date, shop_name, time))\n",
    "print('Total price: ', df['price'].sum())\n",
    "print('Total discount applied: ', total_discount)\n",
    "print('After discount price: ', total_discounted_price)\n",
    "df"
   ]
  }
 ],
 "metadata": {
  "kernelspec": {
   "display_name": "Python 3 (ipykernel)",
   "language": "python",
   "name": "python3"
  },
  "language_info": {
   "codemirror_mode": {
    "name": "ipython",
    "version": 3
   },
   "file_extension": ".py",
   "mimetype": "text/x-python",
   "name": "python",
   "nbconvert_exporter": "python",
   "pygments_lexer": "ipython3",
   "version": "3.9.7"
  }
 },
 "nbformat": 4,
 "nbformat_minor": 5
}
