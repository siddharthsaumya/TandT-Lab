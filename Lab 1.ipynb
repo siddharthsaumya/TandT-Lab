{
 "cells": [
  {
   "cell_type": "code",
   "execution_count": 1,
   "id": "0ec441d9",
   "metadata": {},
   "outputs": [
    {
     "name": "stdout",
     "output_type": "stream",
     "text": [
      "011000"
     ]
    }
   ],
   "source": [
    "def dectobin(x):\n",
    "    if x>=1:\n",
    "        dectobin(x//2)\n",
    "    print(x % 2, end='')\n",
    "num = 24\n",
    "dectobin(num)"
   ]
  },
  {
   "cell_type": "code",
   "execution_count": 2,
   "id": "2236d446",
   "metadata": {},
   "outputs": [
    {
     "name": "stdout",
     "output_type": "stream",
     "text": [
      "34\n"
     ]
    }
   ],
   "source": [
    "def fibo(n):\n",
    "   if n < 0:\n",
    "      print(\"Wrong Input\")\n",
    "   elif n == 1:\n",
    "      return 0\n",
    "   elif n == 2:\n",
    "      return 1\n",
    "   else:\n",
    "      return fibo(n-1)+fibo(n-2)\n",
    "\n",
    "n = 10\n",
    "print(fibo(n))\n"
   ]
  },
  {
   "cell_type": "code",
   "execution_count": 3,
   "id": "32d7ca01",
   "metadata": {},
   "outputs": [
    {
     "name": "stdout",
     "output_type": "stream",
     "text": [
      "17  is Prime Number\n",
      "Next consecutive prime number will be 19\n"
     ]
    }
   ],
   "source": [
    "def Prime(a):\n",
    "    if a > 1:\n",
    "        for j in range(2, int(a/2) + 1):\n",
    "            if (a % j) == 0:\n",
    "                return False\n",
    "        else:\n",
    "            return True\n",
    "    else:\n",
    "        return False\n",
    "\n",
    "def cons(a):\n",
    "    for i in range(1, 10):\n",
    "        if(Prime(a+i)):\n",
    "            print(\"Next consecutive prime number will be\",a+i)\n",
    "            break\n",
    "\n",
    "a = 17\n",
    "if (Prime(a)):\n",
    "    print(a,\" is Prime Number\")\n",
    "    cons(a)\n",
    "else:\n",
    "    print(a, \" is NOT a Prime Number\")\n"
   ]
  },
  {
   "cell_type": "code",
   "execution_count": 4,
   "id": "0cfe154e",
   "metadata": {},
   "outputs": [
    {
     "name": "stdout",
     "output_type": "stream",
     "text": [
      "Enter the string: lioness\n",
      "Vowel => 3\n",
      "Consonent => 4\n",
      "Special char => 0\n"
     ]
    }
   ],
   "source": [
    "con = vow = spc = 0\n",
    "\n",
    "def vowel(n):\n",
    "    if n == 'a' or n =='A' or n == 'i' or n=='I' or n=='e' or n=='E' or n=='o' or n==\"O\" or n=='u' or n==\"U\":\n",
    "        return True\n",
    "    else:\n",
    "        return False\n",
    "\n",
    "def cons(n):\n",
    "    global con, vow\n",
    "    if vowel(n) == False:\n",
    "        con += 1\n",
    "    elif vowel(n) == True:\n",
    "        vow += 1\n",
    "\n",
    "st = input(\"Enter the string: \")\n",
    "for i in range(len(st)):\n",
    "    if st[i].isalpha():\n",
    "        cons(st[i])\n",
    "    elif st[i].isdigit():\n",
    "        continue\n",
    "    else:\n",
    "        spc += 1\n",
    "\n",
    "print(\"Vowel => \"+str(vow)+\"\\nConsonent => \"+str(con)+\"\\nSpecial char => \"+str(spc))\n"
   ]
  },
  {
   "cell_type": "code",
   "execution_count": 5,
   "id": "8341402a",
   "metadata": {
    "scrolled": true
   },
   "outputs": [
    {
     "name": "stdout",
     "output_type": "stream",
     "text": [
      "('a', 'b', 'c', 'd')\n"
     ]
    }
   ],
   "source": [
    "a = ('a', 'b', 'c')\n",
    "item = 'd'\n",
    "l = list(a)\n",
    "l.append(item)\n",
    "print(tuple(l))"
   ]
  }
 ],
 "metadata": {
  "kernelspec": {
   "display_name": "Python 3 (ipykernel)",
   "language": "python",
   "name": "python3"
  },
  "language_info": {
   "codemirror_mode": {
    "name": "ipython",
    "version": 3
   },
   "file_extension": ".py",
   "mimetype": "text/x-python",
   "name": "python",
   "nbconvert_exporter": "python",
   "pygments_lexer": "ipython3",
   "version": "3.9.7"
  }
 },
 "nbformat": 4,
 "nbformat_minor": 5
}
