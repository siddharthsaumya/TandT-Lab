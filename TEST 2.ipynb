{
 "cells": [
  {
   "cell_type": "markdown",
   "id": "7a3eebb5",
   "metadata": {},
   "source": [
    "# TEST-2 (10 quesstion)"
   ]
  },
  {
   "cell_type": "markdown",
   "id": "ea2a94db",
   "metadata": {},
   "source": [
    "### Write a Python Program to count the number of vowels in a string."
   ]
  },
  {
   "cell_type": "code",
   "execution_count": 1,
   "id": "119aaff5",
   "metadata": {},
   "outputs": [
    {
     "name": "stdout",
     "output_type": "stream",
     "text": [
      "Enter the string: siddharth\n",
      "Vowel =>  2\n"
     ]
    }
   ],
   "source": [
    "vow = 0\n",
    "\n",
    "def vowel(n):\n",
    "    if n == 'a' or n =='A' or n == 'i' or n=='I' or n=='e' or n=='E' or n=='o' or n==\"O\" or n=='u' or n==\"U\":\n",
    "        return True\n",
    "    else:\n",
    "        return False\n",
    "\n",
    "st = input(\"Enter the string: \")\n",
    "\n",
    "for i in range(len(st)):\n",
    "    if vowel(st[i]):\n",
    "        vow+=1\n",
    "\n",
    "print(\"Vowel => \",vow)\n"
   ]
  },
  {
   "cell_type": "markdown",
   "id": "3624f762",
   "metadata": {},
   "source": [
    "### Write a Python Program to replace all occurrences of ‘a’ with ‘@’ in a string."
   ]
  },
  {
   "cell_type": "code",
   "execution_count": 2,
   "id": "618767a6",
   "metadata": {},
   "outputs": [
    {
     "name": "stdout",
     "output_type": "stream",
     "text": [
      "Enter the string: jai ran\n",
      "New string j@i r@n\n"
     ]
    }
   ],
   "source": [
    "st = input(\"Enter the string: \")\n",
    "st = st.replace(\"a\", \"@\")\n",
    "print(\"New string\", st)"
   ]
  },
  {
   "cell_type": "markdown",
   "id": "2a478751",
   "metadata": {},
   "source": [
    "### Write a Python Program to calculate the length of a string without using a library function."
   ]
  },
  {
   "cell_type": "code",
   "execution_count": 3,
   "id": "24c7ba1e",
   "metadata": {},
   "outputs": [
    {
     "name": "stdout",
     "output_type": "stream",
     "text": [
      "Enter the string: hello\n",
      "Length of string \"hello\" is 5\n"
     ]
    }
   ],
   "source": [
    "l=0\n",
    "st = input(\"Enter the string: \")\n",
    "for i in st:\n",
    "      l=l+1\n",
    "print(\"Length of string \\\"\"+st+\"\\\" is \"+str(l))"
   ]
  },
  {
   "cell_type": "markdown",
   "id": "557435f7",
   "metadata": {},
   "source": [
    "### Write a Python Program to take in two strings and display the smallest string without using library function."
   ]
  },
  {
   "cell_type": "code",
   "execution_count": 4,
   "id": "ff86cca0",
   "metadata": {},
   "outputs": [
    {
     "name": "stdout",
     "output_type": "stream",
     "text": [
      "Enter string 1: lion\n",
      "Enter string 2: cat\n",
      "cat\n"
     ]
    }
   ],
   "source": [
    "l1 = l2 =0\n",
    "st1 = input(\"Enter string 1: \")\n",
    "st2 = input(\"Enter string 2: \")\n",
    "for i in st1:\n",
    "      l1=l1+1\n",
    "for j in st2:\n",
    "      l2=l2+1\n",
    "if l1 > l2:\n",
    "    print(st2)\n",
    "elif l2 > l1:\n",
    "    print(st1)\n",
    "else:\n",
    "    print(\"Both are of equal length\")"
   ]
  },
  {
   "cell_type": "markdown",
   "id": "14794658",
   "metadata": {},
   "source": [
    "### Write a Python Program to count the number of lowercase and uppercase letters in a string."
   ]
  },
  {
   "cell_type": "code",
   "execution_count": 5,
   "id": "69d6b0f5",
   "metadata": {},
   "outputs": [
    {
     "name": "stdout",
     "output_type": "stream",
     "text": [
      "Enter the string: Hello Siddharth\n",
      "Lowercase => 12\n",
      "Uppercase => 2\n"
     ]
    }
   ],
   "source": [
    "st = input(\"Enter the string: \")\n",
    "lc = uc = 0\n",
    "for i in range (len(st)):\n",
    "    if st[i].isalpha():\n",
    "        if st[i].islower():\n",
    "            lc+=1\n",
    "        else:\n",
    "            uc+=1\n",
    "print(\"Lowercase => \"+str(lc)+\"\\nUppercase => \"+str(uc))"
   ]
  },
  {
   "cell_type": "markdown",
   "id": "86bfd025",
   "metadata": {},
   "source": [
    "### Write a Python Program to count the number of digits and characters in a string."
   ]
  },
  {
   "cell_type": "code",
   "execution_count": 6,
   "id": "edd87639",
   "metadata": {},
   "outputs": [
    {
     "name": "stdout",
     "output_type": "stream",
     "text": [
      "Enter the string: lion 123\n",
      "Characters => 4\n",
      "Digits => 3\n"
     ]
    }
   ],
   "source": [
    "st = input(\"Enter the string: \")\n",
    "d = c = 0\n",
    "for i in range (len(st)):\n",
    "    if st[i].isalpha():\n",
    "        c+=1\n",
    "    elif st[i].isdigit():\n",
    "        d+=1\n",
    "print(\"Characters => \"+str(c)+\"\\nDigits => \"+str(d))"
   ]
  },
  {
   "cell_type": "markdown",
   "id": "2f833590",
   "metadata": {},
   "source": [
    "### Write a Python program to get a string made of the first 3 and the last 3 chars from a given a string. If the string length is less than 3, return instead of the empty string."
   ]
  },
  {
   "cell_type": "code",
   "execution_count": 7,
   "id": "c1b74564",
   "metadata": {},
   "outputs": [
    {
     "name": "stdout",
     "output_type": "stream",
     "text": [
      "Enter the string: jaishreeram\n",
      "jairam\n"
     ]
    }
   ],
   "source": [
    "st = input(\"Enter the string: \")\n",
    "if len(st) < 3:\n",
    "    print(\"String length less than 3\")\n",
    "else:\n",
    "    new_st = st[0]+st[1]+st[2]+st[-3]+st[-2]+st[-1]\n",
    "    print(new_st)"
   ]
  },
  {
   "cell_type": "markdown",
   "id": "631aed90",
   "metadata": {},
   "source": [
    "### Write a Python program to count the occurrences of each word in a given string sentence."
   ]
  },
  {
   "cell_type": "code",
   "execution_count": 8,
   "id": "18a86d1c",
   "metadata": {},
   "outputs": [
    {
     "name": "stdout",
     "output_type": "stream",
     "text": [
      "Enter the string: kiit is kiit good college is\n",
      "{'kiit': 2, 'is': 2, 'good': 1, 'college': 1}\n"
     ]
    }
   ],
   "source": [
    "def word_count(str):\n",
    "    counts = dict()\n",
    "    words = str.split()\n",
    "    for word in words:\n",
    "        if word in counts:\n",
    "            counts[word] += 1\n",
    "        else:\n",
    "            counts[word] = 1\n",
    "    return counts\n",
    "\n",
    "st = input(\"Enter the string: \")\n",
    "print(word_count(st))"
   ]
  },
  {
   "cell_type": "markdown",
   "id": "a5e6f790",
   "metadata": {},
   "source": [
    "### Write a Python program to check string is Palindrome or not."
   ]
  },
  {
   "cell_type": "code",
   "execution_count": 9,
   "id": "de98c443",
   "metadata": {},
   "outputs": [
    {
     "name": "stdout",
     "output_type": "stream",
     "text": [
      "Enter the string: cattac\n",
      "It is a Palindrome\n"
     ]
    }
   ],
   "source": [
    "st = input(\"Enter the string: \")\n",
    "rev_st = st[::-1]\n",
    "if st == rev_st:\n",
    "    print(\"It is a Palindrome\")\n",
    "else:\n",
    "    print(\"It is not a Palindrome\")"
   ]
  },
  {
   "cell_type": "markdown",
   "id": "61838a09",
   "metadata": {},
   "source": [
    "### Write a Python program to reverse a string."
   ]
  },
  {
   "cell_type": "code",
   "execution_count": 10,
   "id": "f8f5102b",
   "metadata": {},
   "outputs": [
    {
     "name": "stdout",
     "output_type": "stream",
     "text": [
      "Enter the string: lion\n",
      "Reversed string is: noil\n"
     ]
    }
   ],
   "source": [
    "st = input(\"Enter the string: \")\n",
    "print(\"Reversed string is:\",st[::-1])"
   ]
  }
 ],
 "metadata": {
  "kernelspec": {
   "display_name": "Python 3 (ipykernel)",
   "language": "python",
   "name": "python3"
  },
  "language_info": {
   "codemirror_mode": {
    "name": "ipython",
    "version": 3
   },
   "file_extension": ".py",
   "mimetype": "text/x-python",
   "name": "python",
   "nbconvert_exporter": "python",
   "pygments_lexer": "ipython3",
   "version": "3.9.7"
  }
 },
 "nbformat": 4,
 "nbformat_minor": 5
}
