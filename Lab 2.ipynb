{
 "cells": [
  {
   "cell_type": "code",
   "execution_count": 7,
   "id": "569a083f",
   "metadata": {},
   "outputs": [
    {
     "name": "stdout",
     "output_type": "stream",
     "text": [
      "Number of elements in the list:  5\n"
     ]
    }
   ],
   "source": [
    "list_one = [1, 2, 15, 45, 34]\n",
    "number_of_elements = len(list_one)\n",
    "print(\"Number of elements in the list: \", number_of_elements)"
   ]
  },
  {
   "cell_type": "code",
   "execution_count": 8,
   "id": "8e575713",
   "metadata": {},
   "outputs": [
    {
     "name": "stdout",
     "output_type": "stream",
     "text": [
      "Largest element is: 99\n"
     ]
    }
   ],
   "source": [
    "list_one = [10, 20, 4, 45, 99]\n",
    "list_one.sort()\n",
    "print(\"Largest element is:\", list_one[-1])"
   ]
  },
  {
   "cell_type": "code",
   "execution_count": 9,
   "id": "d30333ff",
   "metadata": {},
   "outputs": [
    {
     "name": "stdout",
     "output_type": "stream",
     "text": [
      "Sum of all elements in given list:  15\n"
     ]
    }
   ],
   "source": [
    "list_one = [1, 2, 3, 4, 5]\n",
    "total_sum = sum(list_one)\n",
    "print(\"Sum of all elements in given list: \", total_sum)"
   ]
  },
  {
   "cell_type": "code",
   "execution_count": 10,
   "id": "18b3134b",
   "metadata": {},
   "outputs": [
    {
     "name": "stdout",
     "output_type": "stream",
     "text": [
      "Enter first index: 2\n",
      "Enter second index: 5\n",
      "[1, 2]\n",
      "[3, 4, 5]\n",
      "[6, 88, 97, 8, 9, 10]\n"
     ]
    }
   ],
   "source": [
    "list_one = [1,2,3,4,5,6,88,97,8,9,10]\n",
    "a=int(input(\"Enter first index: \"))\n",
    "b=int(input(\"Enter second index: \"))\n",
    "print(list_one[:a])\n",
    "print(list_one[a:b])\n",
    "print(list_one[b:])"
   ]
  },
  {
   "cell_type": "code",
   "execution_count": 11,
   "id": "500b83ac",
   "metadata": {},
   "outputs": [
    {
     "name": "stdout",
     "output_type": "stream",
     "text": [
      "[97, 88, 10, 9, 8, 6, 5, 4, 3, 2, 1]\n"
     ]
    }
   ],
   "source": [
    "list_one = [1,2,3,4,5,6,88,97,8,9,10]\n",
    "list_one.sort()\n",
    "list_one.reverse()\n",
    "print(list_one)"
   ]
  },
  {
   "cell_type": "code",
   "execution_count": 12,
   "id": "902b928f",
   "metadata": {},
   "outputs": [
    {
     "name": "stdout",
     "output_type": "stream",
     "text": [
      "(5, 4, 3, 2, 1)\n"
     ]
    }
   ],
   "source": [
    "tup_one = (1,2,3,4,5)\n",
    "f_tup = reversed(tup_one)\n",
    "print(tuple(f_tup)) "
   ]
  },
  {
   "cell_type": "code",
   "execution_count": 13,
   "id": "d35d8d24",
   "metadata": {},
   "outputs": [
    {
     "name": "stdout",
     "output_type": "stream",
     "text": [
      "(1, 2, 3, 4, 5)\n"
     ]
    }
   ],
   "source": [
    "list_one = [1,2,3,4,5]\n",
    "tup_one = tuple(list_one)\n",
    "print(tup_one)"
   ]
  },
  {
   "cell_type": "code",
   "execution_count": 2,
   "id": "7c6863ee",
   "metadata": {},
   "outputs": [
    {
     "name": "stdout",
     "output_type": "stream",
     "text": [
      "('a', 'b', 'c', 'd')\n"
     ]
    }
   ],
   "source": [
    "a = ('a','b','c')\n",
    "item = 'd'\n",
    "lst = list(a)\n",
    "lst.append(item)\n",
    "print (tuple(lst))"
   ]
  },
  {
   "cell_type": "code",
   "execution_count": null,
   "id": "8cc358de",
   "metadata": {},
   "outputs": [],
   "source": []
  }
 ],
 "metadata": {
  "kernelspec": {
   "display_name": "Python 3 (ipykernel)",
   "language": "python",
   "name": "python3"
  },
  "language_info": {
   "codemirror_mode": {
    "name": "ipython",
    "version": 3
   },
   "file_extension": ".py",
   "mimetype": "text/x-python",
   "name": "python",
   "nbconvert_exporter": "python",
   "pygments_lexer": "ipython3",
   "version": "3.9.7"
  }
 },
 "nbformat": 4,
 "nbformat_minor": 5
}
