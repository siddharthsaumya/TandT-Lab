{
 "cells": [
  {
   "cell_type": "code",
   "execution_count": 1,
   "id": "eff6faaa",
   "metadata": {},
   "outputs": [
    {
     "name": "stdout",
     "output_type": "stream",
     "text": [
      "[1 2 3 4 5]\n"
     ]
    }
   ],
   "source": [
    "import numpy\n",
    "arr = numpy.array([1,2,3,4,5])\n",
    "print(arr)"
   ]
  },
  {
   "cell_type": "code",
   "execution_count": 2,
   "id": "6077937b",
   "metadata": {},
   "outputs": [
    {
     "name": "stdout",
     "output_type": "stream",
     "text": [
      "[[1 2 3]\n",
      " [4 5 6]]\n"
     ]
    }
   ],
   "source": [
    "import numpy as np\n",
    "arr2 = np.array([[1, 2, 3], [4, 5, 6]])\n",
    "print(arr2)"
   ]
  },
  {
   "cell_type": "code",
   "execution_count": 3,
   "id": "10beae31",
   "metadata": {},
   "outputs": [
    {
     "name": "stdout",
     "output_type": "stream",
     "text": [
      "[[[1 2 3]\n",
      "  [1 2 3]]\n",
      "\n",
      " [[1 2 3]\n",
      "  [1 2 3]]]\n"
     ]
    }
   ],
   "source": [
    "arr3 = np.array([[[1, 2, 3], [1,2 ,3]], [[1, 2, 3], [1,2,3]]])\n",
    "print(arr3)"
   ]
  },
  {
   "cell_type": "code",
   "execution_count": 4,
   "id": "a1e9648e",
   "metadata": {},
   "outputs": [
    {
     "name": "stdout",
     "output_type": "stream",
     "text": [
      "1.20.3\n"
     ]
    }
   ],
   "source": [
    "print(np.__version__)"
   ]
  },
  {
   "cell_type": "code",
   "execution_count": 5,
   "id": "051ee984",
   "metadata": {},
   "outputs": [
    {
     "name": "stdout",
     "output_type": "stream",
     "text": [
      "3\n"
     ]
    }
   ],
   "source": [
    "arr4 = np.array([[[1, 2, 3], [1,2 ,3]], [[1, 2, 3], [1,2,3]]])\n",
    "print(arr4[1,1,2])"
   ]
  },
  {
   "cell_type": "code",
   "execution_count": 6,
   "id": "f463a64f",
   "metadata": {},
   "outputs": [
    {
     "name": "stdout",
     "output_type": "stream",
     "text": [
      "6\n"
     ]
    }
   ],
   "source": [
    "arr5 = np.array([[1, 2, 3], [4, 5, 6]])\n",
    "print(arr5[1, -1])"
   ]
  },
  {
   "cell_type": "code",
   "execution_count": 7,
   "id": "e26f2858",
   "metadata": {},
   "outputs": [
    {
     "name": "stdout",
     "output_type": "stream",
     "text": [
      "[2 3 4 5]\n",
      "[2 3 4]\n"
     ]
    }
   ],
   "source": [
    "arr6 = np.array([1,2, 3, 4, 5, 6, 7, 8, 9])\n",
    "print(arr6[1:5])\n",
    "print(arr[-4:-1])"
   ]
  },
  {
   "cell_type": "code",
   "execution_count": 8,
   "id": "bd486ae4",
   "metadata": {},
   "outputs": [
    {
     "name": "stdout",
     "output_type": "stream",
     "text": [
      "[5 6]\n"
     ]
    }
   ],
   "source": [
    "print(arr5[1, 1:3])"
   ]
  },
  {
   "cell_type": "code",
   "execution_count": 9,
   "id": "58ea0c70",
   "metadata": {},
   "outputs": [
    {
     "name": "stdout",
     "output_type": "stream",
     "text": [
      "[3 6]\n"
     ]
    }
   ],
   "source": [
    "print(arr5[0:2, 2])"
   ]
  },
  {
   "cell_type": "code",
   "execution_count": 10,
   "id": "04360b21",
   "metadata": {},
   "outputs": [
    {
     "name": "stdout",
     "output_type": "stream",
     "text": [
      "[1 2 3 4 5 6 7 8 9]\n",
      "[1 2 3 4 5 6 7 8 9]\n"
     ]
    }
   ],
   "source": [
    "x = arr6.copy()\n",
    "y = arr6.view()\n",
    "print(x)\n",
    "print(y)"
   ]
  },
  {
   "cell_type": "code",
   "execution_count": 11,
   "id": "6d8a97b3",
   "metadata": {},
   "outputs": [
    {
     "name": "stdout",
     "output_type": "stream",
     "text": [
      "(2, 3)\n"
     ]
    }
   ],
   "source": [
    "print(arr5.shape)"
   ]
  },
  {
   "cell_type": "code",
   "execution_count": 12,
   "id": "e68b1775",
   "metadata": {},
   "outputs": [
    {
     "name": "stdout",
     "output_type": "stream",
     "text": [
      "[[1 2 3]\n",
      " [4 5 6]\n",
      " [7 8 9]]\n"
     ]
    }
   ],
   "source": [
    "reshapedArr6 = arr6.reshape(3,3)\n",
    "print(reshapedArr6)"
   ]
  },
  {
   "cell_type": "code",
   "execution_count": 13,
   "id": "331acec1",
   "metadata": {},
   "outputs": [
    {
     "name": "stdout",
     "output_type": "stream",
     "text": [
      "[1 2 3 4 5 1 2 3 4 5 6 7 8 9]\n"
     ]
    }
   ],
   "source": [
    "concArr = np.concatenate((arr, arr6))\n",
    "print(concArr)"
   ]
  },
  {
   "cell_type": "code",
   "execution_count": 14,
   "id": "cd3c84ce",
   "metadata": {},
   "outputs": [
    {
     "name": "stdout",
     "output_type": "stream",
     "text": [
      "[[[1 2 3]\n",
      "  [1 2 3]]\n",
      "\n",
      " [[1 2 3]\n",
      "  [1 2 3]]\n",
      "\n",
      " [[1 2 3]\n",
      "  [1 2 3]]\n",
      "\n",
      " [[1 2 3]\n",
      "  [1 2 3]]]\n"
     ]
    }
   ],
   "source": [
    "concArr2D = np.concatenate((arr4, arr3))\n",
    "print(concArr2D)"
   ]
  },
  {
   "cell_type": "code",
   "execution_count": 15,
   "id": "bb01aa11",
   "metadata": {},
   "outputs": [
    {
     "name": "stdout",
     "output_type": "stream",
     "text": [
      "[array([[[1, 2, 3],\n",
      "        [1, 2, 3]]]), array([[[1, 2, 3],\n",
      "        [1, 2, 3]]]), array([[[1, 2, 3],\n",
      "        [1, 2, 3]]]), array([[[1, 2, 3],\n",
      "        [1, 2, 3]]])]\n"
     ]
    }
   ],
   "source": [
    "splitArr = np.array_split(concArr2D, 4)\n",
    "print(splitArr)"
   ]
  },
  {
   "cell_type": "code",
   "execution_count": 16,
   "id": "53d54298",
   "metadata": {},
   "outputs": [
    {
     "name": "stdout",
     "output_type": "stream",
     "text": [
      "[1 2 3 4 5 6 7 8 9]\n"
     ]
    }
   ],
   "source": [
    "print(np.sort(arr6))"
   ]
  }
 ],
 "metadata": {
  "kernelspec": {
   "display_name": "Python 3 (ipykernel)",
   "language": "python",
   "name": "python3"
  },
  "language_info": {
   "codemirror_mode": {
    "name": "ipython",
    "version": 3
   },
   "file_extension": ".py",
   "mimetype": "text/x-python",
   "name": "python",
   "nbconvert_exporter": "python",
   "pygments_lexer": "ipython3",
   "version": "3.9.7"
  }
 },
 "nbformat": 4,
 "nbformat_minor": 5
}
